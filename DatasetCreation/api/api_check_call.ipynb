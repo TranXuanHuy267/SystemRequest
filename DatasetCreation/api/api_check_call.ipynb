{
 "cells": [
  {
   "cell_type": "code",
   "execution_count": 2,
   "metadata": {},
   "outputs": [],
   "source": [
    "import warnings\n",
    "warnings.filterwarnings('ignore')"
   ]
  },
  {
   "cell_type": "code",
   "execution_count": 3,
   "metadata": {},
   "outputs": [],
   "source": [
    "import json\n",
    "import requests\n",
    "from IPython.display import JSON\n",
    "from pprint import pprint\n",
    "\n",
    "# Load the JSON data from the file\n",
    "with open('/Users/tranxuanhuy/Documents/Viettel Digital Talent/Chatbot/Code/data/API Chatbot.postman_collection.json', 'r') as json_file:\n",
    "    api_data = json.load(json_file)"
   ]
  },
  {
   "cell_type": "code",
   "execution_count": 4,
   "metadata": {},
   "outputs": [
    {
     "data": {
      "text/plain": [
       "{'name': 'https://10.30.164.32:8192/vsds/api/chatbot/getListServiceIdInDash',\n",
       " 'protocolProfileBehavior': {'strictSSL': False},\n",
       " 'request': {'method': 'POST',\n",
       "  'header': [],\n",
       "  'url': {'raw': 'https://10.30.164.32:8192/vsds/api/chatbot/getListServiceIdInDash?token=eyJhbGciOiJIUzI1NiIsInppcCI6IkdaSVAifQ.H4sIAAAAAAAAAKtWyiwuVrJSSk8qSVHSUcpMLFGyMjSzNDA1tDA1MtdRSq0ogAiYGZhYggSKSxLT0pzzU1KBmozMLE0MjYHaUlILSjxTQCKmJkBuaXFqEYwL4-cl5iJpqQUAkUShLngAAAA.FoJOIbtALO9FJ67OEbw7J_CflWDQ1b4YNQ7JIfl0Db8&dashboardId=2354&ip=10.61.142.22',\n",
       "   'protocol': 'https',\n",
       "   'host': ['10', '30', '164', '32'],\n",
       "   'port': '8192',\n",
       "   'path': ['vsds', 'api', 'chatbot', 'getListServiceIdInDash'],\n",
       "   'query': [{'key': 'token',\n",
       "     'value': 'eyJhbGciOiJIUzI1NiIsInppcCI6IkdaSVAifQ.H4sIAAAAAAAAAKtWyiwuVrJSSk8qSVHSUcpMLFGyMjSzNDA1tDA1MtdRSq0ogAiYGZhYggSKSxLT0pzzU1KBmozMLE0MjYHaUlILSjxTQCKmJkBuaXFqEYwL4-cl5iJpqQUAkUShLngAAAA.FoJOIbtALO9FJ67OEbw7J_CflWDQ1b4YNQ7JIfl0Db8'},\n",
       "    {'key': 'dashboardId', 'value': '2354'},\n",
       "    {'key': 'ip', 'value': '10.61.142.22'}]}},\n",
       " 'response': []}"
      ]
     },
     "execution_count": 4,
     "metadata": {},
     "output_type": "execute_result"
    }
   ],
   "source": [
    "order = 7\n",
    "api = api_data['item'][order]\n",
    "api\n"
   ]
  },
  {
   "cell_type": "code",
   "execution_count": 5,
   "metadata": {},
   "outputs": [
    {
     "name": "stdout",
     "output_type": "stream",
     "text": [
      "{'dashboardId': '2354', 'ip': '10.61.142.22'}\n"
     ]
    }
   ],
   "source": [
    "if order==5:\n",
    "    data = {}\n",
    "    print(data)\n",
    "elif order in [6, 7, 8]:\n",
    "    data = {each_query['key']:each_query['value'] for each_query in api['request']['url']['query'] if each_query['key']!='token'}\n",
    "    print(data)\n",
    "else:\n",
    "    data = api['request']['body']['raw']\n",
    "    data = json.loads(data)\n",
    "    print(data)"
   ]
  },
  {
   "cell_type": "code",
   "execution_count": 8,
   "metadata": {},
   "outputs": [
    {
     "name": "stdout",
     "output_type": "stream",
     "text": [
      "https://10.30.164.32:8192/vsds/api/chatbot/getListServiceIdInDash?token=eyJhbGciOiJIUzI1NiIsInppcCI6IkdaSVAifQ.H4sIAAAAAAAAAKtWyiwuVrJSSk8qSVHSUcpMLFGyMjSzNLY0M7M0sNBRSq0oAAuYGJgaG4MEiksS09Kc81NSgZqMgOKGxkBtKakFJZ4pIBFTEyC3tDi1CMaF8fMSc5G01AIAgG6fSngAAAA.mvTqCOqk-VCO0ua7YUiKIWJfgXzKkQC_4UhzMFrCzdA&dashboardId=2354&ip=10.61.142.22\n",
      "{'dashboardId': '2354', 'ip': '10.61.142.22'}\n",
      "------------------------------\n",
      "Request thành công\n",
      "{'code': '200',\n",
      " 'data': [{'deptCode': 'TD',\n",
      "           'serviceId': 1148,\n",
      "           'serviceName': 'Tiêu dùng thực di động (TT+TS)'},\n",
      "          {'deptCode': 'VDTC',\n",
      "           'serviceId': 7346,\n",
      "           'serviceName': 'Dán thẻ epass (lũy kế)'},\n",
      "          {'deptCode': 'TD',\n",
      "           'serviceId': 10174,\n",
      "           'serviceName': 'DOANH THU DỊCH VỤ & SẢN XUẤT'},\n",
      "          {'deptCode': 'VDS',\n",
      "           'serviceId': 1202004,\n",
      "           'serviceName': 'Thuê bao Viettel Money PSGD tăng thêm'},\n",
      "          {'deptCode': 'VDTC',\n",
      "           'serviceId': 7350,\n",
      "           'serviceName': 'Thẻ epass (thẻ mới)'},\n",
      "          {'deptCode': 'VDTC',\n",
      "           'serviceId': 7401,\n",
      "           'serviceName': 'Tỷ lệ giao dịch ETC qua trạm'},\n",
      "          {'deptCode': 'VTTNEWNEW',\n",
      "           'serviceId': 1100084,\n",
      "           'serviceName': 'Thuê bao TH'},\n",
      "          {'deptCode': 'TD',\n",
      "           'serviceId': 205,\n",
      "           'serviceName': 'Tổng TB thực lũy kế'},\n",
      "          {'deptCode': 'TD',\n",
      "           'serviceId': 275,\n",
      "           'serviceName': 'FTTx - TB thực lũy kế'},\n",
      "          {'deptCode': 'VTTNEWNEW',\n",
      "           'serviceId': 1100068,\n",
      "           'serviceName': ' THUÊ BAO TRUYỀN HÌNH'},\n",
      "          {'deptCode': 'TD', 'serviceId': 174, 'serviceName': 'Di động Lũy kế'},\n",
      "          {'deptCode': 'VDTC',\n",
      "           'serviceId': 1200572,\n",
      "           'serviceName': 'Tỷ lệ thẻ phát sinh giao dịch lũy kế từ khi khai '\n",
      "                          'trương dịch vụ'},\n",
      "          {'deptCode': 'TD',\n",
      "           'serviceId': 175,\n",
      "           'serviceName': 'Thuê bao Register tăng thêm'},\n",
      "          {'deptCode': 'TD',\n",
      "           'serviceId': 19,\n",
      "           'serviceName': 'TỔNG DOANH THU (chi tiết)'},\n",
      "          {'deptCode': 'TD',\n",
      "           'serviceId': 206,\n",
      "           'serviceName': 'Thuê bao thực tăng thêm'},\n",
      "          {'deptCode': 'TD',\n",
      "           'serviceId': 276,\n",
      "           'serviceName': 'FTTx - TB thực tăng/giảm'},\n",
      "          {'deptCode': 'TD', 'serviceId': 6002, 'serviceName': 'Sắp đến hạn'},\n",
      "          {'deptCode': 'TD',\n",
      "           'serviceId': 6004,\n",
      "           'serviceName': 'Đang thực hiện'},\n",
      "          {'deptCode': 'VDS',\n",
      "           'serviceId': 1202003,\n",
      "           'serviceName': 'Lũy kế Thuê bao Viettel Money PSGD'},\n",
      "          {'deptCode': 'TD', 'serviceId': 6003, 'serviceName': 'Chậm tiến độ'},\n",
      "          {'deptCode': 'TD',\n",
      "           'serviceId': 1144,\n",
      "           'serviceName': 'DOANH THU DỊCH VỤ (trừ hubbing)'},\n",
      "          {'deptCode': 'TD',\n",
      "           'serviceId': 806,\n",
      "           'serviceName': 'Thuê bao 4G (LK toàn mạng)'},\n",
      "          {'deptCode': 'TD',\n",
      "           'serviceId': 807,\n",
      "           'serviceName': 'Thuê bao 4G tăng thêm'},\n",
      "          {'deptCode': 'TD', 'serviceId': 6001, 'serviceName': 'Đã hoàn thành'},\n",
      "          {'deptCode': 'VTTNEWNEW',\n",
      "           'serviceId': 1202100,\n",
      "           'serviceName': 'TV360 Sub tăng/giảm'},\n",
      "          {'deptCode': 'VTTNEWNEW',\n",
      "           'serviceId': 1202101,\n",
      "           'serviceName': 'TV360 Sub lũy kế'}],\n",
      " 'timestamp': 1693990405536}\n",
      "Response: None\n"
     ]
    }
   ],
   "source": [
    "api_url = api['request']['url']['raw']\n",
    "api_url = \"https://10.30.164.32:8192/vsds/api/chatbot/getListServiceIdInDash?token=eyJhbGciOiJIUzI1NiIsInppcCI6IkdaSVAifQ.H4sIAAAAAAAAAKtWyiwuVrJSSk8qSVHSUcpMLFGyMjSzNLY0M7M0sNBRSq0oAAuYGJgaG4MEiksS09Kc81NSgZqMgOKGxkBtKakFJZ4pIBFTEyC3tDi1CMaF8fMSc5G01AIAgG6fSngAAAA.mvTqCOqk-VCO0ua7YUiKIWJfgXzKkQC_4UhzMFrCzdA&dashboardId=2354&ip=10.61.142.22\"\n",
    "print(api_url)\n",
    "token = api['request']['url']['query'][0]['value']\n",
    "token = \"eyJhbGciOiJIUzI1NiIsInppcCI6IkdaSVAifQ.H4sIAAAAAAAAAKtWyiwuVrJSSk8qSVHSUcpMLFGyMjSzNLY0M7M0sNBRSq0oAAuYGJgaG4MEiksS09Kc81NSgZqMgOKGxkBtKakFJZ4pIBFTEyC3tDi1CMaF8fMSc5G01AIAgG6fSngAAAA.mvTqCOqk-VCO0ua7YUiKIWJfgXzKkQC_4UhzMFrCzdA\"\n",
    "# Dữ liệu bạn muốn gửi trong request POST (nếu có)\n",
    "if order==5:\n",
    "    data = {'ip': '10.61.142.22'}\n",
    "elif order in [6, 7, 8]:\n",
    "    data = {each_query['key']:each_query['value'] for each_query in api['request']['url']['query'] if each_query['key']!='token'}\n",
    "    # data = {}\n",
    "    pprint(data)\n",
    "else:\n",
    "    data = api['request']['body']['raw']\n",
    "    data = json.loads(data)\n",
    "\n",
    "# Tiêu đề Authorization chứa mã thông báo\n",
    "headers = {'Authorization': f'Bearer {token}'}\n",
    "\n",
    "# Thực hiện cuộc gọi POST\n",
    "response = requests.post(api_url, json=data, headers=headers, verify=False)\n",
    "\n",
    "# Kiểm tra phản hồi từ server\n",
    "if response.status_code == 200:\n",
    "    print('-'*30)\n",
    "    print('Request thành công')\n",
    "    print('Response:', pprint(response.json()))\n",
    "else:\n",
    "    print('Request thất bại')\n",
    "    print('Status code:', response.status_code)\n",
    "    print('Response:', response.text)"
   ]
  },
  {
   "cell_type": "code",
   "execution_count": 11,
   "metadata": {},
   "outputs": [
    {
     "data": {
      "text/plain": [
       "[{'serviceId': 1148,\n",
       "  'serviceName': 'Tiêu dùng thực di động (TT+TS)',\n",
       "  'deptCode': 'TD'},\n",
       " {'serviceId': 7346,\n",
       "  'serviceName': 'Dán thẻ epass (lũy kế)',\n",
       "  'deptCode': 'VDTC'},\n",
       " {'serviceId': 10174,\n",
       "  'serviceName': 'DOANH THU DỊCH VỤ & SẢN XUẤT',\n",
       "  'deptCode': 'TD'},\n",
       " {'serviceId': 1202004,\n",
       "  'serviceName': 'Thuê bao Viettel Money PSGD tăng thêm',\n",
       "  'deptCode': 'VDS'},\n",
       " {'serviceId': 7350, 'serviceName': 'Thẻ epass (thẻ mới)', 'deptCode': 'VDTC'},\n",
       " {'serviceId': 7401,\n",
       "  'serviceName': 'Tỷ lệ giao dịch ETC qua trạm',\n",
       "  'deptCode': 'VDTC'},\n",
       " {'serviceId': 1100084, 'serviceName': 'Thuê bao TH', 'deptCode': 'VTTNEWNEW'},\n",
       " {'serviceId': 205, 'serviceName': 'Tổng TB thực lũy kế', 'deptCode': 'TD'},\n",
       " {'serviceId': 275, 'serviceName': 'FTTx - TB thực lũy kế', 'deptCode': 'TD'},\n",
       " {'serviceId': 1100068,\n",
       "  'serviceName': ' THUÊ BAO TRUYỀN HÌNH',\n",
       "  'deptCode': 'VTTNEWNEW'},\n",
       " {'serviceId': 174, 'serviceName': 'Di động Lũy kế', 'deptCode': 'TD'},\n",
       " {'serviceId': 1200572,\n",
       "  'serviceName': 'Tỷ lệ thẻ phát sinh giao dịch lũy kế từ khi khai trương dịch vụ',\n",
       "  'deptCode': 'VDTC'},\n",
       " {'serviceId': 175,\n",
       "  'serviceName': 'Thuê bao Register tăng thêm',\n",
       "  'deptCode': 'TD'},\n",
       " {'serviceId': 19,\n",
       "  'serviceName': 'TỔNG DOANH THU (chi tiết)',\n",
       "  'deptCode': 'TD'},\n",
       " {'serviceId': 206,\n",
       "  'serviceName': 'Thuê bao thực tăng thêm',\n",
       "  'deptCode': 'TD'},\n",
       " {'serviceId': 276,\n",
       "  'serviceName': 'FTTx - TB thực tăng/giảm',\n",
       "  'deptCode': 'TD'},\n",
       " {'serviceId': 6002, 'serviceName': 'Sắp đến hạn', 'deptCode': 'TD'},\n",
       " {'serviceId': 6004, 'serviceName': 'Đang thực hiện', 'deptCode': 'TD'},\n",
       " {'serviceId': 1202003,\n",
       "  'serviceName': 'Lũy kế Thuê bao Viettel Money PSGD',\n",
       "  'deptCode': 'VDS'},\n",
       " {'serviceId': 6003, 'serviceName': 'Chậm tiến độ', 'deptCode': 'TD'},\n",
       " {'serviceId': 1144,\n",
       "  'serviceName': 'DOANH THU DỊCH VỤ (trừ hubbing)',\n",
       "  'deptCode': 'TD'},\n",
       " {'serviceId': 806,\n",
       "  'serviceName': 'Thuê bao 4G (LK toàn mạng)',\n",
       "  'deptCode': 'TD'},\n",
       " {'serviceId': 807, 'serviceName': 'Thuê bao 4G tăng thêm', 'deptCode': 'TD'},\n",
       " {'serviceId': 6001, 'serviceName': 'Đã hoàn thành', 'deptCode': 'TD'},\n",
       " {'serviceId': 1202100,\n",
       "  'serviceName': 'TV360 Sub tăng/giảm',\n",
       "  'deptCode': 'VTTNEWNEW'},\n",
       " {'serviceId': 1202101,\n",
       "  'serviceName': 'TV360 Sub lũy kế',\n",
       "  'deptCode': 'VTTNEWNEW'}]"
      ]
     },
     "execution_count": 11,
     "metadata": {},
     "output_type": "execute_result"
    }
   ],
   "source": [
    "b= response.json()\n",
    "b['data']"
   ]
  },
  {
   "cell_type": "code",
   "execution_count": 13,
   "metadata": {},
   "outputs": [
    {
     "data": {
      "text/plain": [
       "['Tiêu dùng thực di động (TT+TS)',\n",
       " 'Dán thẻ epass (lũy kế)',\n",
       " 'DOANH THU DỊCH VỤ & SẢN XUẤT',\n",
       " 'Thuê bao Viettel Money PSGD tăng thêm',\n",
       " 'Thẻ epass (thẻ mới)',\n",
       " 'Tỷ lệ giao dịch ETC qua trạm',\n",
       " 'Thuê bao TH',\n",
       " 'Tổng TB thực lũy kế',\n",
       " 'FTTx - TB thực lũy kế',\n",
       " ' THUÊ BAO TRUYỀN HÌNH',\n",
       " 'Di động Lũy kế',\n",
       " 'Tỷ lệ thẻ phát sinh giao dịch lũy kế từ khi khai trương dịch vụ',\n",
       " 'Thuê bao Register tăng thêm',\n",
       " 'TỔNG DOANH THU (chi tiết)',\n",
       " 'Thuê bao thực tăng thêm',\n",
       " 'FTTx - TB thực tăng/giảm',\n",
       " 'Sắp đến hạn',\n",
       " 'Đang thực hiện',\n",
       " 'Lũy kế Thuê bao Viettel Money PSGD',\n",
       " 'Chậm tiến độ',\n",
       " 'DOANH THU DỊCH VỤ (trừ hubbing)',\n",
       " 'Thuê bao 4G (LK toàn mạng)',\n",
       " 'Thuê bao 4G tăng thêm',\n",
       " 'Đã hoàn thành',\n",
       " 'TV360 Sub tăng/giảm',\n",
       " 'TV360 Sub lũy kế']"
      ]
     },
     "execution_count": 13,
     "metadata": {},
     "output_type": "execute_result"
    }
   ],
   "source": [
    "list_service = [i['serviceName'] for i in b['data']]\n",
    "list_service"
   ]
  },
  {
   "cell_type": "code",
   "execution_count": null,
   "metadata": {},
   "outputs": [],
   "source": []
  }
 ],
 "metadata": {
  "kernelspec": {
   "display_name": "ENV",
   "language": "python",
   "name": "env"
  },
  "language_info": {
   "codemirror_mode": {
    "name": "ipython",
    "version": 3
   },
   "file_extension": ".py",
   "mimetype": "text/x-python",
   "name": "python",
   "nbconvert_exporter": "python",
   "pygments_lexer": "ipython3",
   "version": "3.8.8"
  },
  "orig_nbformat": 4
 },
 "nbformat": 4,
 "nbformat_minor": 2
}
