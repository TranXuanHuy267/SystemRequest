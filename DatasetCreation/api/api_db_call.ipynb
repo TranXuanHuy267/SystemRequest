{
 "cells": [
  {
   "cell_type": "code",
   "execution_count": 10,
   "metadata": {},
   "outputs": [
    {
     "name": "stdout",
     "output_type": "stream",
     "text": [
      "Request thành công\n",
      "Response: {'code': '200', 'timestamp': 1693477045611, 'data': [{'dashboardId': 5039, 'dashboardName': 'Doanh thu di động'}, {'dashboardId': 5044, 'dashboardName': 'Doanh thu kinh doanh quốc tế'}, {'dashboardId': 5040, 'dashboardName': 'Doanh thu cố định'}, {'dashboardId': 5043, 'dashboardName': 'Doanh thu giải pháp CNTT'}, {'dashboardId': 5047, 'dashboardName': 'Doanh thu thương mại điện tử'}, {'dashboardId': 8855, 'dashboardName': 'THUÊ BAO VÍ PSGD'}, {'dashboardId': 2683, 'dashboardName': 'Doanh thu dịch vụ'}, {'dashboardId': 2684, 'dashboardName': 'Thuê bao di động phát triển thực'}, {'dashboardId': 2685, 'dashboardName': 'Thuê bao 4G phát triển thực'}, {'dashboardId': 2686, 'dashboardName': 'Tổng doanh thu'}, {'dashboardId': 2687, 'dashboardName': 'Tiêu dùng thực di động'}, {'dashboardId': 2688, 'dashboardName': 'Thuê bao register'}, {'dashboardId': 2689, 'dashboardName': 'Thuê bao FTTH'}, {'dashboardId': 2690, 'dashboardName': 'VTC'}, {'dashboardId': 8487, 'dashboardName': 'TIẾN ĐỘ THỰC HIỆN NHIỆM VỤ'}, {'dashboardId': 7957, 'dashboardName': 'DOANH THU DỊCH VỤ & SẢN XUẤT'}, {'dashboardId': 5469, 'dashboardName': 'Doanh thu di động_5469'}, {'dashboardId': 5470, 'dashboardName': 'Doanh thu kinh doanh quốc tế_5470'}, {'dashboardId': 5471, 'dashboardName': 'Doanh thu cố định_5471'}, {'dashboardId': 5472, 'dashboardName': 'Doanh thu giải pháp CNTT_5472'}, {'dashboardId': 5473, 'dashboardName': 'Doanh thu thương mại điện tử_5473'}, {'dashboardId': 5474, 'dashboardName': 'THUÊ BAO VÍ PSGD_5474'}, {'dashboardId': 5475, 'dashboardName': 'Doanh thu dịch vụ_5475'}, {'dashboardId': 5476, 'dashboardName': 'Thuê bao di động phát triển thực_5476'}, {'dashboardId': 5477, 'dashboardName': 'Thuê bao 4G phát triển thực_5477'}, {'dashboardId': 5478, 'dashboardName': 'Tổng doanh thu_5478'}, {'dashboardId': 5479, 'dashboardName': 'Tiêu dùng thực di động_5479'}, {'dashboardId': 5480, 'dashboardName': 'Thuê bao register_5480'}, {'dashboardId': 5481, 'dashboardName': 'Thuê bao FTTH_5481'}, {'dashboardId': 5482, 'dashboardName': 'VTC_5482'}, {'dashboardId': 5483, 'dashboardName': 'TIẾN ĐỘ THỰC HIỆN NHIỆM VỤ_5483'}, {'dashboardId': 5484, 'dashboardName': 'DOANH THU DỊCH VỤ & SẢN XUẤT_5484'}]}\n"
     ]
    },
    {
     "name": "stderr",
     "output_type": "stream",
     "text": [
      "/Users/tranxuanhuy/opt/anaconda3/lib/python3.8/site-packages/urllib3/connectionpool.py:1013: InsecureRequestWarning: Unverified HTTPS request is being made to host '10.30.164.32'. Adding certificate verification is strongly advised. See: https://urllib3.readthedocs.io/en/latest/advanced-usage.html#ssl-warnings\n",
      "  warnings.warn(\n"
     ]
    }
   ],
   "source": [
    "import json\n",
    "import requests\n",
    "\n",
    "# Load the JSON data from the file\n",
    "with open('/Users/tranxuanhuy/Documents/Viettel Digital Talent/Chatbot/Code/data/getChartIDAPI.json', 'r') as json_file:\n",
    "    api_data = json.load(json_file)\n",
    "\n",
    "# Thay thế các giá trị dưới đây bằng thông tin của API bạn muốn gọi và mã thông báo (token) của bạn\n",
    "api_url = \"https://10.30.164.32:8192/vsds/api/chatbot/getDashboard?token=eyJhbGciOiJIUzI1NiIsInppcCI6IkdaSVAifQ.H4sIAAAAAAAAAKtWyiwuVrJSSk8qSVHSUcpMLFGyMjSzNDA1sDQ3M9NRSq0ogApYmhmCBIpLEtPSnPNTUoGajMwsTQyNgdpSUgtKPFNAIqYmQG5pcWoRjAvj5yXmImmpBQDfAGr_eAAAAA.iU0Vka0zQCQMUb1I8U6ncOMh5YtrO3b7G4ZhMGYN5yk&groupProfileCode=VPTD&cycleTime=NGAY&areaCode=VTC&ip=10.61.142.22\"\n",
    "token = \"eyJhbGciOiJIUzI1NiIsInppcCI6IkdaSVAifQ.H4sIAAAAAAAAAKtWyiwuVrJSSk8qSVHSUcpMLFGyMjSzNDA1sDQ3M9NRSq0ogApYmhmCBIpLEtPSnPNTUoGajMwsTQyNgdpSUgtKPFNAIqYmQG5pcWoRjAvj5yXmImmpBQDfAGr_eAAAAA.iU0Vka0zQCQMUb1I8U6ncOMh5YtrO3b7G4ZhMGYN5yk\"\n",
    "\n",
    "# Dữ liệu bạn muốn gửi trong request POST (nếu có)\n",
    "data = {}\n",
    "\n",
    "# Tiêu đề Authorization chứa mã thông báo\n",
    "headers = {'Authorization': f'Bearer {token}'}\n",
    "\n",
    "# Thực hiện cuộc gọi POST\n",
    "response = requests.post(api_url, json=data, headers=headers, verify=False)\n",
    "\n",
    "# Kiểm tra phản hồi từ server\n",
    "if response.status_code == 200:\n",
    "    print('Request thành công')\n",
    "    print('Response:', response.json())\n",
    "else:\n",
    "    print('Request thất bại')\n",
    "    print('Status code:', response.status_code)\n",
    "    print('Response:', response.text)"
   ]
  },
  {
   "cell_type": "code",
   "execution_count": 44,
   "metadata": {},
   "outputs": [],
   "source": [
    "import warnings\n",
    "warnings.filterwarnings('ignore')"
   ]
  },
  {
   "cell_type": "code",
   "execution_count": 48,
   "metadata": {},
   "outputs": [
    {
     "name": "stdout",
     "output_type": "stream",
     "text": [
      "Request thành công\n",
      "Response: {'code': '200', 'timestamp': 1694073067389, 'data': [{'dashboardId': 6295, 'dashboardName': 'Thái Nguyên'}, {'dashboardId': 3825, 'dashboardName': 'Doanh thu dịch vụ nhóm VDS'}, {'dashboardId': 3815, 'dashboardName': 'Doanh thu dịch vụ SME'}, {'dashboardId': 3816, 'dashboardName': 'Doanh thu dịch vụ di động'}, {'dashboardId': 3817, 'dashboardName': 'Thuê bao register'}, {'dashboardId': 3818, 'dashboardName': 'Doanh thu dịch vụ nhóm VTS'}, {'dashboardId': 3819, 'dashboardName': 'Thuê bao FTTH'}, {'dashboardId': 3820, 'dashboardName': 'Thuê bao di động phát triển thực'}, {'dashboardId': 3821, 'dashboardName': 'Thuê bao 4G phát triển thực'}, {'dashboardId': 3822, 'dashboardName': 'Tổng doanh thu dịch vụ'}, {'dashboardId': 3823, 'dashboardName': 'Doanh thu dịch vụ cố định băng rộng'}, {'dashboardId': 3824, 'dashboardName': 'Doanh thu dịch vụ nhóm VTT'}]}\n"
     ]
    }
   ],
   "source": [
    "import json\n",
    "import requests\n",
    "\n",
    "# Load the JSON data from the file\n",
    "with open('/Users/tranxuanhuy/Documents/Viettel Digital Talent/Chatbot/Code/data/getChartIDAPI.json', 'r') as json_file:\n",
    "    api_data = json.load(json_file)\n",
    "\n",
    "# Thay thế các giá trị dưới đây bằng thông tin của API bạn muốn gọi và mã thông báo (token) của bạn\n",
    "api_url = \"https://10.30.164.32:8192/vsds/api/chatbot/getDashboard?token=eyJhbGciOiJIUzI1NiIsInppcCI6IkdaSVAifQ.H4sIAAAAAAAAAKtWyiwuVrJSSk8qSVHSUcpMLFGyMjSzNDA1sDQ3M9NRSq0ogApYmhmCBIpLEtPSnPNTUoGajMwsTQyNgdpSUgtKPFNAIqYmQG5pcWoRjAvj5yXmImmpBQDfAGr_eAAAAA.iU0Vka0zQCQMUb1I8U6ncOMh5YtrO3b7G4ZhMGYN5yk&groupProfileCode=VPTD&cycleTime=NGAY&areaCode=VTC&ip=10.61.142.22\"\n",
    "api_url = \"https://10.30.164.32:8192/vsds/api/chatbot/getDashboard?token=eyJhbGciOiJIUzI1NiIsInppcCI6IkdaSVAifQ.H4sIAAAAAAAAAKtWyiwuVrJSSk8qSVHSUcpMLFGyMjSzNLY0M7M0sNBRSq0oAAuYGJgaG4MEiksS09Kc81NSgZqMgOKGxkBtKakFJZ4pIBFTEyC3tDi1CMaF8fMSc5G01AIAgG6fSngAAAA.mvTqCOqk-VCO0ua7YUiKIWJfgXzKkQC_4UhzMFrCzdA&groupProfileCode=VPTD&cycleTime=NGAY&areaCode=T280&ip=10.61.142.22\"\n",
    "token = \"eyJhbGciOiJIUzI1NiIsInppcCI6IkdaSVAifQ.H4sIAAAAAAAAAKtWyiwuVrJSSk8qSVHSUcpMLFGyMjSzNDA1sDQ3M9NRSq0ogApYmhmCBIpLEtPSnPNTUoGajMwsTQyNgdpSUgtKPFNAIqYmQG5pcWoRjAvj5yXmImmpBQDfAGr_eAAAAA.iU0Vka0zQCQMUb1I8U6ncOMh5YtrO3b7G4ZhMGYN5yk\"\n",
    "token = 'eyJhbGciOiJIUzI1NiIsInppcCI6IkdaSVAifQ.H4sIAAAAAAAAAKtWyiwuVrJSSk8qSVHSUcpMLFGyMjSzNLY0M7M0sNBRSq0oAAuYGJgaG4MEiksS09Kc81NSgZqMgOKGxkBtKakFJZ4pIBFTEyC3tDi1CMaF8fMSc5G01AIAgG6fSngAAAA.mvTqCOqk-VCO0ua7YUiKIWJfgXzKkQC_4UhzMFrCzdA'\n",
    "# Dữ liệu bạn muốn gửi trong request POST (nếu có)\n",
    "data = {}\n",
    "\n",
    "# Tiêu đề Authorization chứa mã thông báo\n",
    "headers = {'Authorization': f'Bearer {token}'}\n",
    "\n",
    "# Thực hiện cuộc gọi POST\n",
    "response = requests.post(api_url, json=data, headers=headers, verify=False)\n",
    "\n",
    "# Kiểm tra phản hồi từ server\n",
    "if response.status_code == 200:\n",
    "    print('Request thành công')\n",
    "    print('Response:', response.json())\n",
    "else:\n",
    "    print('Request thất bại')\n",
    "    print('Status code:', response.status_code)\n",
    "    print('Response:', response.text)"
   ]
  },
  {
   "cell_type": "code",
   "execution_count": 47,
   "metadata": {},
   "outputs": [
    {
     "data": {
      "text/html": [
       "<div>\n",
       "<style scoped>\n",
       "    .dataframe tbody tr th:only-of-type {\n",
       "        vertical-align: middle;\n",
       "    }\n",
       "\n",
       "    .dataframe tbody tr th {\n",
       "        vertical-align: top;\n",
       "    }\n",
       "\n",
       "    .dataframe thead th {\n",
       "        text-align: right;\n",
       "    }\n",
       "</style>\n",
       "<table border=\"1\" class=\"dataframe\">\n",
       "  <thead>\n",
       "    <tr style=\"text-align: right;\">\n",
       "      <th></th>\n",
       "      <th>dashboardId</th>\n",
       "      <th>dashboardName</th>\n",
       "    </tr>\n",
       "  </thead>\n",
       "  <tbody>\n",
       "    <tr>\n",
       "      <th>0</th>\n",
       "      <td>6167</td>\n",
       "      <td>Bắc Giang</td>\n",
       "    </tr>\n",
       "    <tr>\n",
       "      <th>1</th>\n",
       "      <td>3605</td>\n",
       "      <td>Doanh thu dịch vụ SME</td>\n",
       "    </tr>\n",
       "    <tr>\n",
       "      <th>2</th>\n",
       "      <td>3606</td>\n",
       "      <td>Doanh thu dịch vụ di động</td>\n",
       "    </tr>\n",
       "    <tr>\n",
       "      <th>3</th>\n",
       "      <td>3607</td>\n",
       "      <td>Doanh thu dịch vụ nhóm VTS</td>\n",
       "    </tr>\n",
       "    <tr>\n",
       "      <th>4</th>\n",
       "      <td>3608</td>\n",
       "      <td>Thuê bao FTTH</td>\n",
       "    </tr>\n",
       "    <tr>\n",
       "      <th>5</th>\n",
       "      <td>3609</td>\n",
       "      <td>Thuê bao di động phát triển thực</td>\n",
       "    </tr>\n",
       "    <tr>\n",
       "      <th>6</th>\n",
       "      <td>3610</td>\n",
       "      <td>Thuê bao 4G phát triển thực</td>\n",
       "    </tr>\n",
       "    <tr>\n",
       "      <th>7</th>\n",
       "      <td>3611</td>\n",
       "      <td>Tổng doanh thu dịch vụ</td>\n",
       "    </tr>\n",
       "    <tr>\n",
       "      <th>8</th>\n",
       "      <td>3612</td>\n",
       "      <td>Thuê bao register</td>\n",
       "    </tr>\n",
       "    <tr>\n",
       "      <th>9</th>\n",
       "      <td>3613</td>\n",
       "      <td>Doanh thu dịch vụ cố định băng rộng</td>\n",
       "    </tr>\n",
       "    <tr>\n",
       "      <th>10</th>\n",
       "      <td>3614</td>\n",
       "      <td>Doanh thu dịch vụ nhóm VTT</td>\n",
       "    </tr>\n",
       "    <tr>\n",
       "      <th>11</th>\n",
       "      <td>3615</td>\n",
       "      <td>Doanh thu dịch vụ nhóm VDS</td>\n",
       "    </tr>\n",
       "  </tbody>\n",
       "</table>\n",
       "</div>"
      ],
      "text/plain": [
       "    dashboardId                        dashboardName\n",
       "0          6167                            Bắc Giang\n",
       "1          3605                Doanh thu dịch vụ SME\n",
       "2          3606            Doanh thu dịch vụ di động\n",
       "3          3607           Doanh thu dịch vụ nhóm VTS\n",
       "4          3608                        Thuê bao FTTH\n",
       "5          3609     Thuê bao di động phát triển thực\n",
       "6          3610          Thuê bao 4G phát triển thực\n",
       "7          3611               Tổng doanh thu dịch vụ\n",
       "8          3612                    Thuê bao register\n",
       "9          3613  Doanh thu dịch vụ cố định băng rộng\n",
       "10         3614           Doanh thu dịch vụ nhóm VTT\n",
       "11         3615           Doanh thu dịch vụ nhóm VDS"
      ]
     },
     "execution_count": 47,
     "metadata": {},
     "output_type": "execute_result"
    }
   ],
   "source": [
    "import pandas as pd\n",
    "check = response.json()['data']\n",
    "df = pd.DataFrame(check)\n",
    "df"
   ]
  },
  {
   "cell_type": "code",
   "execution_count": 11,
   "metadata": {},
   "outputs": [
    {
     "name": "stdout",
     "output_type": "stream",
     "text": [
      "Request thành công\n",
      "Response: {'code': '200', 'timestamp': 1693989013073, 'data': []}\n"
     ]
    },
    {
     "name": "stderr",
     "output_type": "stream",
     "text": [
      "/Users/tranxuanhuy/opt/anaconda3/lib/python3.8/site-packages/urllib3/connectionpool.py:1056: InsecureRequestWarning: Unverified HTTPS request is being made to host '10.30.164.32'. Adding certificate verification is strongly advised. See: https://urllib3.readthedocs.io/en/1.26.x/advanced-usage.html#ssl-warnings\n",
      "  warnings.warn(\n"
     ]
    }
   ],
   "source": [
    "import json\n",
    "import requests\n",
    "\n",
    "# Load the JSON data from the file\n",
    "with open('/Users/tranxuanhuy/Documents/Viettel Digital Talent/Chatbot/Code/data/getChartIDAPI.json', 'r') as json_file:\n",
    "    api_data = json.load(json_file)\n",
    "\n",
    "# Thay thế các giá trị dưới đây bằng thông tin của API bạn muốn gọi và mã thông báo (token) của bạn\n",
    "api_url = \"https://10.30.164.32:8192/vsds/api/chatbot/getDashboard?token=eyJhbGciOiJIUzI1NiIsInppcCI6IkdaSVAifQ.H4sIAAAAAAAAAKtWyiwuVrJSSk8qSVHSUcpMLFGyMjSzNDA1sDQ3M9NRSq0ogApYmhmCBIpLEtPSnPNTUoGajMwsTQyNgdpSUgtKPFNAIqYmQG5pcWoRjAvj5yXmImmpBQDfAGr_eAAAAA.iU0Vka0zQCQMUb1I8U6ncOMh5YtrO3b7G4ZhMGYN5yk \\\n",
    "    &groupProfileCode=VPTD \\\n",
    "    &cycleTime=NGAY \\\n",
    "    &areaCode=TD \\\n",
    "    &ip=10.61.142.22\"\n",
    "token = \"eyJhbGciOiJIUzI1NiIsInppcCI6IkdaSVAifQ.H4sIAAAAAAAAAKtWyiwuVrJSSk8qSVHSUcpMLFGyMjSzNDA1sDQ3M9NRSq0ogApYmhmCBIpLEtPSnPNTUoGajMwsTQyNgdpSUgtKPFNAIqYmQG5pcWoRjAvj5yXmImmpBQDfAGr_eAAAAA.iU0Vka0zQCQMUb1I8U6ncOMh5YtrO3b7G4ZhMGYN5yk\"\n",
    "\n",
    "# Dữ liệu bạn muốn gửi trong request POST (nếu có)\n",
    "data = {}\n",
    "\n",
    "# Tiêu đề Authorization chứa mã thông báo\n",
    "headers = {'Authorization': f'Bearer {token}'}\n",
    "\n",
    "# Thực hiện cuộc gọi POST\n",
    "response = requests.post(api_url, json=data, headers=headers, verify=False)\n",
    "\n",
    "# Kiểm tra phản hồi từ server\n",
    "if response.status_code == 200:\n",
    "    print('Request thành công')\n",
    "    print('Response:', response.json())\n",
    "else:\n",
    "    print('Request thất bại')\n",
    "    print('Status code:', response.status_code)\n",
    "    print('Response:', response.text)"
   ]
  },
  {
   "cell_type": "code",
   "execution_count": null,
   "metadata": {},
   "outputs": [],
   "source": []
  }
 ],
 "metadata": {
  "kernelspec": {
   "display_name": "ENV",
   "language": "python",
   "name": "env"
  },
  "language_info": {
   "codemirror_mode": {
    "name": "ipython",
    "version": 3
   },
   "file_extension": ".py",
   "mimetype": "text/x-python",
   "name": "python",
   "nbconvert_exporter": "python",
   "pygments_lexer": "ipython3",
   "version": "3.8.8"
  },
  "orig_nbformat": 4
 },
 "nbformat": 4,
 "nbformat_minor": 2
}
