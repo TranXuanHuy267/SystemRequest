{
 "cells": [
  {
   "cell_type": "code",
   "execution_count": 1,
   "metadata": {},
   "outputs": [
    {
     "name": "stdout",
     "output_type": "stream",
     "text": [
      "Requirement already satisfied: transformers in /Users/tranxuanhuy/opt/anaconda3/lib/python3.8/site-packages (4.28.0)\n",
      "Requirement already satisfied: requests in /Users/tranxuanhuy/opt/anaconda3/lib/python3.8/site-packages (from transformers) (2.25.1)\n",
      "Requirement already satisfied: regex!=2019.12.17 in /Users/tranxuanhuy/opt/anaconda3/lib/python3.8/site-packages (from transformers) (2021.4.4)\n",
      "Requirement already satisfied: huggingface-hub<1.0,>=0.11.0 in /Users/tranxuanhuy/opt/anaconda3/lib/python3.8/site-packages (from transformers) (0.16.4)\n",
      "Requirement already satisfied: tqdm>=4.27 in /Users/tranxuanhuy/opt/anaconda3/lib/python3.8/site-packages (from transformers) (4.65.0)\n",
      "Requirement already satisfied: pyyaml>=5.1 in /Users/tranxuanhuy/opt/anaconda3/lib/python3.8/site-packages (from transformers) (5.3.1)\n",
      "Requirement already satisfied: filelock in /Users/tranxuanhuy/opt/anaconda3/lib/python3.8/site-packages (from transformers) (3.8.0)\n",
      "Requirement already satisfied: tokenizers!=0.11.3,<0.14,>=0.11.1 in /Users/tranxuanhuy/opt/anaconda3/lib/python3.8/site-packages (from transformers) (0.13.3)\n",
      "Requirement already satisfied: packaging>=20.0 in /Users/tranxuanhuy/opt/anaconda3/lib/python3.8/site-packages (from transformers) (22.0)\n",
      "Requirement already satisfied: numpy>=1.17 in /Users/tranxuanhuy/opt/anaconda3/lib/python3.8/site-packages (from transformers) (1.24.2)\n",
      "Requirement already satisfied: typing-extensions>=3.7.4.3 in /Users/tranxuanhuy/opt/anaconda3/lib/python3.8/site-packages (from huggingface-hub<1.0,>=0.11.0->transformers) (4.4.0)\n",
      "Requirement already satisfied: fsspec in /Users/tranxuanhuy/opt/anaconda3/lib/python3.8/site-packages (from huggingface-hub<1.0,>=0.11.0->transformers) (2022.11.0)\n",
      "Requirement already satisfied: certifi>=2017.4.17 in /Users/tranxuanhuy/opt/anaconda3/lib/python3.8/site-packages (from requests->transformers) (2022.12.7)\n",
      "Requirement already satisfied: idna<3,>=2.5 in /Users/tranxuanhuy/opt/anaconda3/lib/python3.8/site-packages (from requests->transformers) (2.10)\n",
      "Requirement already satisfied: urllib3<1.27,>=1.21.1 in /Users/tranxuanhuy/opt/anaconda3/lib/python3.8/site-packages (from requests->transformers) (1.26.4)\n",
      "Requirement already satisfied: chardet<5,>=3.0.2 in /Users/tranxuanhuy/opt/anaconda3/lib/python3.8/site-packages (from requests->transformers) (4.0.0)\n"
     ]
    }
   ],
   "source": [
    "!pip install transformers"
   ]
  },
  {
   "cell_type": "code",
   "execution_count": 2,
   "metadata": {},
   "outputs": [],
   "source": [
    "import warnings\n",
    "warnings.filterwarnings(\"ignore\")"
   ]
  },
  {
   "cell_type": "code",
   "execution_count": 5,
   "metadata": {},
   "outputs": [],
   "source": [
    "import pandas as pd\n",
    "\n",
    "dataset = pd.read_csv(\"data_creation/generate_cmd_4.csv\")\n",
    "dataset.drop(columns=[\"Unnamed: 0\", 'Unnamed: 0.3'], inplace=True)"
   ]
  },
  {
   "cell_type": "code",
   "execution_count": 6,
   "metadata": {},
   "outputs": [
    {
     "data": {
      "text/html": [
       "<div>\n",
       "<style scoped>\n",
       "    .dataframe tbody tr th:only-of-type {\n",
       "        vertical-align: middle;\n",
       "    }\n",
       "\n",
       "    .dataframe tbody tr th {\n",
       "        vertical-align: top;\n",
       "    }\n",
       "\n",
       "    .dataframe thead th {\n",
       "        text-align: right;\n",
       "    }\n",
       "</style>\n",
       "<table border=\"1\" class=\"dataframe\">\n",
       "  <thead>\n",
       "    <tr style=\"text-align: right;\">\n",
       "      <th></th>\n",
       "      <th>Câu lệnh sinh ra</th>\n",
       "      <th>Câu lệnh có sẵn</th>\n",
       "    </tr>\n",
       "  </thead>\n",
       "  <tbody>\n",
       "    <tr>\n",
       "      <th>0</th>\n",
       "      <td>hãy mở trang chủ</td>\n",
       "      <td>Mở trang chủ</td>\n",
       "    </tr>\n",
       "    <tr>\n",
       "      <th>1</th>\n",
       "      <td>không cần chờ đợi, hãy mở trang chủ ngay</td>\n",
       "      <td>Mở trang chủ</td>\n",
       "    </tr>\n",
       "    <tr>\n",
       "      <th>2</th>\n",
       "      <td>làm ơn mở trang chủ</td>\n",
       "      <td>Mở trang chủ</td>\n",
       "    </tr>\n",
       "    <tr>\n",
       "      <th>3</th>\n",
       "      <td>vui lòng mở trang chủ</td>\n",
       "      <td>Mở trang chủ</td>\n",
       "    </tr>\n",
       "    <tr>\n",
       "      <th>4</th>\n",
       "      <td>xin hãy mở trang chủ</td>\n",
       "      <td>Mở trang chủ</td>\n",
       "    </tr>\n",
       "    <tr>\n",
       "      <th>...</th>\n",
       "      <td>...</td>\n",
       "      <td>...</td>\n",
       "    </tr>\n",
       "    <tr>\n",
       "      <th>2745</th>\n",
       "      <td>hãy khởi động màn hình trình bày để hiển thị b...</td>\n",
       "      <td>Mở màn hình trình chiếu báo cáo tháng</td>\n",
       "    </tr>\n",
       "    <tr>\n",
       "      <th>2746</th>\n",
       "      <td>vui lòng mở màn hình trình diễn để tôi có thể ...</td>\n",
       "      <td>Mở màn hình trình chiếu báo cáo tháng</td>\n",
       "    </tr>\n",
       "    <tr>\n",
       "      <th>2747</th>\n",
       "      <td>hãy cho màn hình trình chiếu hiển thị báo cáo ...</td>\n",
       "      <td>Mở màn hình trình chiếu báo cáo tháng</td>\n",
       "    </tr>\n",
       "    <tr>\n",
       "      <th>2748</th>\n",
       "      <td>xin vui lòng bật màn hình trình chiếu để tôi t...</td>\n",
       "      <td>Mở màn hình trình chiếu báo cáo tháng</td>\n",
       "    </tr>\n",
       "    <tr>\n",
       "      <th>2749</th>\n",
       "      <td>hãy khởi động màn hình trình bày để tôi có thể...</td>\n",
       "      <td>Mở màn hình trình chiếu báo cáo tháng</td>\n",
       "    </tr>\n",
       "  </tbody>\n",
       "</table>\n",
       "<p>2750 rows × 2 columns</p>\n",
       "</div>"
      ],
      "text/plain": [
       "                                       Câu lệnh sinh ra  \\\n",
       "0                                      hãy mở trang chủ   \n",
       "1              không cần chờ đợi, hãy mở trang chủ ngay   \n",
       "2                                   làm ơn mở trang chủ   \n",
       "3                                 vui lòng mở trang chủ   \n",
       "4                                  xin hãy mở trang chủ   \n",
       "...                                                 ...   \n",
       "2745  hãy khởi động màn hình trình bày để hiển thị b...   \n",
       "2746  vui lòng mở màn hình trình diễn để tôi có thể ...   \n",
       "2747  hãy cho màn hình trình chiếu hiển thị báo cáo ...   \n",
       "2748  xin vui lòng bật màn hình trình chiếu để tôi t...   \n",
       "2749  hãy khởi động màn hình trình bày để tôi có thể...   \n",
       "\n",
       "                            Câu lệnh có sẵn  \n",
       "0                              Mở trang chủ  \n",
       "1                              Mở trang chủ  \n",
       "2                              Mở trang chủ  \n",
       "3                              Mở trang chủ  \n",
       "4                              Mở trang chủ  \n",
       "...                                     ...  \n",
       "2745  Mở màn hình trình chiếu báo cáo tháng  \n",
       "2746  Mở màn hình trình chiếu báo cáo tháng  \n",
       "2747  Mở màn hình trình chiếu báo cáo tháng  \n",
       "2748  Mở màn hình trình chiếu báo cáo tháng  \n",
       "2749  Mở màn hình trình chiếu báo cáo tháng  \n",
       "\n",
       "[2750 rows x 2 columns]"
      ]
     },
     "execution_count": 6,
     "metadata": {},
     "output_type": "execute_result"
    }
   ],
   "source": [
    "dataset"
   ]
  },
  {
   "cell_type": "code",
   "execution_count": 13,
   "metadata": {},
   "outputs": [
    {
     "data": {
      "text/html": [
       "<div>\n",
       "<style scoped>\n",
       "    .dataframe tbody tr th:only-of-type {\n",
       "        vertical-align: middle;\n",
       "    }\n",
       "\n",
       "    .dataframe tbody tr th {\n",
       "        vertical-align: top;\n",
       "    }\n",
       "\n",
       "    .dataframe thead th {\n",
       "        text-align: right;\n",
       "    }\n",
       "</style>\n",
       "<table border=\"1\" class=\"dataframe\">\n",
       "  <thead>\n",
       "    <tr style=\"text-align: right;\">\n",
       "      <th></th>\n",
       "      <th>Câu lệnh sinh ra</th>\n",
       "      <th>Câu lệnh có sẵn</th>\n",
       "    </tr>\n",
       "  </thead>\n",
       "  <tbody>\n",
       "    <tr>\n",
       "      <th>0</th>\n",
       "      <td>mở cảnh báo nhập kh tháng</td>\n",
       "      <td>Mở cảnh báo nhập KH tháng</td>\n",
       "    </tr>\n",
       "    <tr>\n",
       "      <th>1</th>\n",
       "      <td>cảnh báo nhập kh tháng</td>\n",
       "      <td>Mở cảnh báo nhập KH tháng</td>\n",
       "    </tr>\n",
       "    <tr>\n",
       "      <th>2</th>\n",
       "      <td>cảnh báo kh tháng</td>\n",
       "      <td>Mở cảnh báo nhập KH tháng</td>\n",
       "    </tr>\n",
       "    <tr>\n",
       "      <th>3</th>\n",
       "      <td>cảnh báo tháng</td>\n",
       "      <td>Mở cảnh báo nhập KH tháng</td>\n",
       "    </tr>\n",
       "    <tr>\n",
       "      <th>4</th>\n",
       "      <td>cảnh báo kế hoạch tháng</td>\n",
       "      <td>Mở cảnh báo nhập KH tháng</td>\n",
       "    </tr>\n",
       "    <tr>\n",
       "      <th>...</th>\n",
       "      <td>...</td>\n",
       "      <td>...</td>\n",
       "    </tr>\n",
       "    <tr>\n",
       "      <th>285</th>\n",
       "      <td>bc kpi</td>\n",
       "      <td>Mở báo cáo KPI chấm điểm</td>\n",
       "    </tr>\n",
       "    <tr>\n",
       "      <th>286</th>\n",
       "      <td>bc kpi</td>\n",
       "      <td>Mở báo cáo KPI chấm điểm</td>\n",
       "    </tr>\n",
       "    <tr>\n",
       "      <th>287</th>\n",
       "      <td>bc kpi cđ</td>\n",
       "      <td>Mở báo cáo KPI chấm điểm</td>\n",
       "    </tr>\n",
       "    <tr>\n",
       "      <th>288</th>\n",
       "      <td>mở báo cáo kpi chấm điểm</td>\n",
       "      <td>Mở báo cáo KPI chấm điểm</td>\n",
       "    </tr>\n",
       "    <tr>\n",
       "      <th>289</th>\n",
       "      <td>báo cáo kpi</td>\n",
       "      <td>Mở báo cáo KPI chấm điểm</td>\n",
       "    </tr>\n",
       "  </tbody>\n",
       "</table>\n",
       "<p>290 rows × 2 columns</p>\n",
       "</div>"
      ],
      "text/plain": [
       "              Câu lệnh sinh ra            Câu lệnh có sẵn\n",
       "0    mở cảnh báo nhập kh tháng  Mở cảnh báo nhập KH tháng\n",
       "1       cảnh báo nhập kh tháng  Mở cảnh báo nhập KH tháng\n",
       "2            cảnh báo kh tháng  Mở cảnh báo nhập KH tháng\n",
       "3               cảnh báo tháng  Mở cảnh báo nhập KH tháng\n",
       "4      cảnh báo kế hoạch tháng  Mở cảnh báo nhập KH tháng\n",
       "..                         ...                        ...\n",
       "285                     bc kpi   Mở báo cáo KPI chấm điểm\n",
       "286                     bc kpi   Mở báo cáo KPI chấm điểm\n",
       "287                  bc kpi cđ   Mở báo cáo KPI chấm điểm\n",
       "288   mở báo cáo kpi chấm điểm   Mở báo cáo KPI chấm điểm\n",
       "289                báo cáo kpi   Mở báo cáo KPI chấm điểm\n",
       "\n",
       "[290 rows x 2 columns]"
      ]
     },
     "execution_count": 13,
     "metadata": {},
     "output_type": "execute_result"
    }
   ],
   "source": [
    "testcase = pd.read_csv(\"data_creation/processed_test_case.csv\")\n",
    "testcase['Câu lệnh nhập vào'] = testcase['Câu lệnh nhập vào'].apply(lambda x: x.lower())\n",
    "testcase.rename(columns={'Câu lệnh nhập vào': 'Câu lệnh sinh ra'}, inplace=True)\n",
    "testcase.drop(columns=['Unnamed: 0', 'Output', 'Dự đoán'], inplace=True)\n",
    "testcase"
   ]
  },
  {
   "cell_type": "code",
   "execution_count": 16,
   "metadata": {},
   "outputs": [],
   "source": [
    "from sklearn.model_selection import train_test_split\n",
    "\n",
    "train_1, test_1 = train_test_split(dataset, test_size=0.2, random_state=0)\n",
    "valid_1, test_1 = train_test_split(test_1, test_size=0.5, random_state=0)"
   ]
  },
  {
   "cell_type": "code",
   "execution_count": 17,
   "metadata": {},
   "outputs": [
    {
     "data": {
      "text/plain": [
       "2200"
      ]
     },
     "execution_count": 17,
     "metadata": {},
     "output_type": "execute_result"
    }
   ],
   "source": [
    "len(train_1)"
   ]
  },
  {
   "cell_type": "code",
   "execution_count": 18,
   "metadata": {},
   "outputs": [
    {
     "data": {
      "text/plain": [
       "275"
      ]
     },
     "execution_count": 18,
     "metadata": {},
     "output_type": "execute_result"
    }
   ],
   "source": [
    "len(valid_1)"
   ]
  },
  {
   "cell_type": "code",
   "execution_count": 19,
   "metadata": {},
   "outputs": [
    {
     "data": {
      "text/plain": [
       "275"
      ]
     },
     "execution_count": 19,
     "metadata": {},
     "output_type": "execute_result"
    }
   ],
   "source": [
    "len(test_1)"
   ]
  },
  {
   "cell_type": "code",
   "execution_count": 20,
   "metadata": {},
   "outputs": [],
   "source": [
    "from sklearn.model_selection import train_test_split\n",
    "\n",
    "train_2, test_2 = train_test_split(testcase, test_size=0.2, random_state=0)\n",
    "valid_2, test_2 = train_test_split(test_2, test_size=0.5, random_state=0)"
   ]
  },
  {
   "cell_type": "code",
   "execution_count": 21,
   "metadata": {},
   "outputs": [
    {
     "data": {
      "text/plain": [
       "232"
      ]
     },
     "execution_count": 21,
     "metadata": {},
     "output_type": "execute_result"
    }
   ],
   "source": [
    "len(train_2)"
   ]
  },
  {
   "cell_type": "code",
   "execution_count": 22,
   "metadata": {},
   "outputs": [
    {
     "data": {
      "text/plain": [
       "29"
      ]
     },
     "execution_count": 22,
     "metadata": {},
     "output_type": "execute_result"
    }
   ],
   "source": [
    "len(valid_2)"
   ]
  },
  {
   "cell_type": "code",
   "execution_count": 23,
   "metadata": {},
   "outputs": [
    {
     "data": {
      "text/plain": [
       "29"
      ]
     },
     "execution_count": 23,
     "metadata": {},
     "output_type": "execute_result"
    }
   ],
   "source": [
    "len(test_2)"
   ]
  },
  {
   "cell_type": "code",
   "execution_count": 30,
   "metadata": {},
   "outputs": [],
   "source": [
    "train = pd.concat([train_1, train_2])"
   ]
  },
  {
   "cell_type": "code",
   "execution_count": 31,
   "metadata": {},
   "outputs": [],
   "source": [
    "valid = pd.concat([valid_1, valid_2])"
   ]
  },
  {
   "cell_type": "code",
   "execution_count": 32,
   "metadata": {},
   "outputs": [],
   "source": [
    "test = pd.concat([test_1, test_2])"
   ]
  },
  {
   "cell_type": "code",
   "execution_count": 33,
   "metadata": {},
   "outputs": [],
   "source": [
    "train.to_csv(\"data_creation/train_valid_test_4/train.csv\")"
   ]
  },
  {
   "cell_type": "code",
   "execution_count": 34,
   "metadata": {},
   "outputs": [],
   "source": [
    "valid.to_csv(\"data_creation/train_valid_test_4/valid.csv\")"
   ]
  },
  {
   "cell_type": "code",
   "execution_count": 35,
   "metadata": {},
   "outputs": [],
   "source": [
    "test.to_csv(\"data_creation/train_valid_test_4/test.csv\")"
   ]
  }
 ],
 "metadata": {
  "kernelspec": {
   "display_name": "ENV",
   "language": "python",
   "name": "env"
  },
  "language_info": {
   "codemirror_mode": {
    "name": "ipython",
    "version": 3
   },
   "file_extension": ".py",
   "mimetype": "text/x-python",
   "name": "python",
   "nbconvert_exporter": "python",
   "pygments_lexer": "ipython3",
   "version": "3.8.8"
  },
  "orig_nbformat": 4
 },
 "nbformat": 4,
 "nbformat_minor": 2
}
