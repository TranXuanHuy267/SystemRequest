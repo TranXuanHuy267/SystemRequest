{
 "cells": [
  {
   "cell_type": "code",
   "execution_count": 67,
   "metadata": {},
   "outputs": [
    {
     "name": "stdout",
     "output_type": "stream",
     "text": [
      "Request thành công\n",
      "Response: {'code': '200', 'timestamp': 1696136005334, 'data': [{'dashboardId': 6277, 'dashboardName': 'Tuyên Quang'}, {'dashboardId': 3936, 'dashboardName': 'Doanh thu dịch vụ SME'}, {'dashboardId': 3937, 'dashboardName': 'Doanh thu dịch vụ di động'}, {'dashboardId': 3938, 'dashboardName': 'Thuê bao register'}, {'dashboardId': 3939, 'dashboardName': 'Doanh thu dịch vụ nhóm VTS'}, {'dashboardId': 3940, 'dashboardName': 'Thuê bao FTTH'}, {'dashboardId': 3941, 'dashboardName': 'Thuê bao di động phát triển thực'}, {'dashboardId': 3942, 'dashboardName': 'Thuê bao 4G phát triển thực'}, {'dashboardId': 3943, 'dashboardName': 'Tổng doanh thu dịch vụ'}, {'dashboardId': 3944, 'dashboardName': 'Doanh thu dịch vụ cố định băng rộng'}, {'dashboardId': 3945, 'dashboardName': 'Doanh thu dịch vụ nhóm VTT'}, {'dashboardId': 3946, 'dashboardName': 'Doanh thu dịch vụ nhóm VDS'}]}\n"
     ]
    },
    {
     "name": "stderr",
     "output_type": "stream",
     "text": [
      "/Users/tranxuanhuy/anaconda3/lib/python3.11/site-packages/urllib3/connectionpool.py:1056: InsecureRequestWarning: Unverified HTTPS request is being made to host '10.30.164.32'. Adding certificate verification is strongly advised. See: https://urllib3.readthedocs.io/en/1.26.x/advanced-usage.html#ssl-warnings\n",
      "  warnings.warn(\n"
     ]
    }
   ],
   "source": [
    "import requests\n",
    "\n",
    "api_url = \"https://10.30.164.32:8192/vsds/api/chatbot/getDashboard?token=eyJhbGciOiJIUzI1NiIsInppcCI6IkdaSVAifQ.H4sIAAAAAAAAAKtWyiwuVrJSSk8qSVHSUcpMLFGyMjSzNLY0M7M0sNBRSq0oAAuYGJgaG4MEiksS09Kc81NSgZqMgOKGxkBtKakFJZ4pIBFTEyC3tDi1CMaF8fMSc5G01AIAgG6fSngAAAA.mvTqCOqk-VCO0ua7YUiKIWJfgXzKkQC_4UhzMFrCzdA&groupProfileCode=VPTD&cycleTime=NGAY&areaCode=T027&ip=10.61.142.22\"\n",
    "token = \"eyJhbGciOiJIUzI1NiIsInppcCI6IkdaSVAifQ.H4sIAAAAAAAAAKtWyiwuVrJSSk8qSVHSUcpMLFGyMjSzNDA1sDQ3M9NRSq0ogApYmhmCBIpLEtPSnPNTUoGajMwsTQyNgdpSUgtKPFNAIqYmQG5pcWoRjAvj5yXmImmpBQDfAGr_eAAAAA.iU0Vka0zQCQMUb1I8U6ncOMh5YtrO3b7G4ZhMGYN5yk\"\n",
    "\n",
    "# Dữ liệu bạn muốn gửi trong request POST (nếu có)\n",
    "data = {\n",
    "    'token': 'eyJhbGciOiJIUzI1NiIsInppcCI6IkdaSVAifQ.H4sIAAAAAAAAAKtWyiwuVrJSSk8qSVHSUcpMLFGyMjSzNLY0M7M0sNBRSq0oAAuYGJgaG4MEiksS09Kc81NSgZqMgOKGxkBtKakFJZ4pIBFTEyC3tDi1CMaF8fMSc5G01AIAgG6fSngAAAA.mvTqCOqk-VCO0ua7YUiKIWJfgXzKkQC_4UhzMFrCzdA',\n",
    "    'groupProfileCode': 'VPTD',\n",
    "    'cycleTime': 'NGAY',\n",
    "    'areaCode': 'VTTNEWNEW',\n",
    "    'ip': '10.61.142.22'\n",
    "}\n",
    "\n",
    "# Tiêu đề Authorization chứa mã thông báo\n",
    "headers = {'Authorization': f'Bearer {token}'}\n",
    "\n",
    "# Thực hiện cuộc gọi POST\n",
    "response = requests.post(api_url, json=data, headers=headers, verify=False)\n",
    "\n",
    "# Kiểm tra phản hồi từ server\n",
    "if response.status_code == 200:\n",
    "    print('Request thành công')\n",
    "    print('Response:', response.json())\n",
    "else:\n",
    "    print('Request thất bại')\n",
    "    print('Status code:', response.status_code)\n",
    "    print('Response:', response.text)"
   ]
  },
  {
   "cell_type": "code",
   "execution_count": 68,
   "metadata": {},
   "outputs": [
    {
     "data": {
      "text/plain": [
       "{'code': '200',\n",
       " 'timestamp': 1696136005334,\n",
       " 'data': [{'dashboardId': 6277, 'dashboardName': 'Tuyên Quang'},\n",
       "  {'dashboardId': 3936, 'dashboardName': 'Doanh thu dịch vụ SME'},\n",
       "  {'dashboardId': 3937, 'dashboardName': 'Doanh thu dịch vụ di động'},\n",
       "  {'dashboardId': 3938, 'dashboardName': 'Thuê bao register'},\n",
       "  {'dashboardId': 3939, 'dashboardName': 'Doanh thu dịch vụ nhóm VTS'},\n",
       "  {'dashboardId': 3940, 'dashboardName': 'Thuê bao FTTH'},\n",
       "  {'dashboardId': 3941, 'dashboardName': 'Thuê bao di động phát triển thực'},\n",
       "  {'dashboardId': 3942, 'dashboardName': 'Thuê bao 4G phát triển thực'},\n",
       "  {'dashboardId': 3943, 'dashboardName': 'Tổng doanh thu dịch vụ'},\n",
       "  {'dashboardId': 3944,\n",
       "   'dashboardName': 'Doanh thu dịch vụ cố định băng rộng'},\n",
       "  {'dashboardId': 3945, 'dashboardName': 'Doanh thu dịch vụ nhóm VTT'},\n",
       "  {'dashboardId': 3946, 'dashboardName': 'Doanh thu dịch vụ nhóm VDS'}]}"
      ]
     },
     "execution_count": 68,
     "metadata": {},
     "output_type": "execute_result"
    }
   ],
   "source": [
    "response.json()"
   ]
  },
  {
   "cell_type": "code",
   "execution_count": 17,
   "metadata": {},
   "outputs": [
    {
     "name": "stdout",
     "output_type": "stream",
     "text": [
      "{'dashboardId': 6277, 'dashboardName': 'Tuyên Quang'}\n",
      "{'dashboardId': 3936, 'dashboardName': 'Doanh thu dịch vụ SME'}\n",
      "{'dashboardId': 3937, 'dashboardName': 'Doanh thu dịch vụ di động'}\n",
      "{'dashboardId': 3938, 'dashboardName': 'Thuê bao register'}\n",
      "{'dashboardId': 3939, 'dashboardName': 'Doanh thu dịch vụ nhóm VTS'}\n",
      "{'dashboardId': 3940, 'dashboardName': 'Thuê bao FTTH'}\n",
      "{'dashboardId': 3941, 'dashboardName': 'Thuê bao di động phát triển thực'}\n",
      "{'dashboardId': 3942, 'dashboardName': 'Thuê bao 4G phát triển thực'}\n",
      "{'dashboardId': 3943, 'dashboardName': 'Tổng doanh thu dịch vụ'}\n",
      "{'dashboardId': 3944, 'dashboardName': 'Doanh thu dịch vụ cố định băng rộng'}\n",
      "{'dashboardId': 3945, 'dashboardName': 'Doanh thu dịch vụ nhóm VTT'}\n",
      "{'dashboardId': 3946, 'dashboardName': 'Doanh thu dịch vụ nhóm VDS'}\n"
     ]
    }
   ],
   "source": [
    "# T027\n",
    "for item in response.json()['data']:\n",
    "    if '_' not in item['dashboardName'] and 'Copy' not in item['dashboardName']:\n",
    "        print(item)"
   ]
  },
  {
   "cell_type": "code",
   "execution_count": 15,
   "metadata": {},
   "outputs": [
    {
     "name": "stdout",
     "output_type": "stream",
     "text": [
      "{'dashboardId': 5030, 'dashboardName': 'Doanh thu dịch vụ thu phí'}\n",
      "{'dashboardId': 5031, 'dashboardName': 'Doanh thu phát hành thẻ'}\n",
      "{'dashboardId': 5032, 'dashboardName': 'Doanh thu kết nối'}\n",
      "{'dashboardId': 5033, 'dashboardName': 'Doanh thu dịch vụ giá trị gia tăng'}\n",
      "{'dashboardId': 5434, 'dashboardName': 'Thẻ có nạp tiền'}\n",
      "{'dashboardId': 8035, 'dashboardName': 'DOANH THU DỊCH VỤ & SẢN XUẤT'}\n",
      "{'dashboardId': 5358, 'dashboardName': 'Thẻ có PSGD qua trạm'}\n",
      "{'dashboardId': 3079, 'dashboardName': 'Tổng doanh thu'}\n",
      "{'dashboardId': 3080, 'dashboardName': 'Doanh thu dịch vụ'}\n",
      "{'dashboardId': 8479, 'dashboardName': 'TIẾN ĐỘ THỰC HIỆN NHIỆM VỤ'}\n",
      "{'dashboardId': 3067, 'dashboardName': 'VDTC'}\n",
      "{'dashboardId': 3081, 'dashboardName': 'Dán thẻ epass'}\n"
     ]
    }
   ],
   "source": [
    "# VDTC\n",
    "for item in response.json()['data']:\n",
    "    if '_' not in item['dashboardName'] and 'Copy' not in item['dashboardName']:\n",
    "        print(item)"
   ]
  },
  {
   "cell_type": "code",
   "execution_count": 13,
   "metadata": {},
   "outputs": [
    {
     "name": "stdout",
     "output_type": "stream",
     "text": [
      "{'dashboardId': 5155, 'dashboardName': 'DV THANH TOÁN ĐIỆN TỬ'}\n",
      "{'dashboardId': 5162, 'dashboardName': 'DT CHUYỂN TIỀN MẶT/THU HỘ TẠI QUẦY'}\n",
      "{'dashboardId': 5159, 'dashboardName': 'DỊCH VỤ SMS'}\n",
      "{'dashboardId': 5314, 'dashboardName': 'Doanh thu dịch vụ'}\n",
      "{'dashboardId': 7955, 'dashboardName': 'DOANH THU DỊCH VỤ & SẢN XUẤT'}\n",
      "{'dashboardId': 5153, 'dashboardName': 'DT BÁN THẺ CÀO NỘI MẠNG'}\n",
      "{'dashboardId': 5156, 'dashboardName': 'DV KHAI THÁC DỮ LIỆU'}\n",
      "{'dashboardId': 5656, 'dashboardName': 'THUÊ BAO VIETTEL MONEY'}\n",
      "{'dashboardId': 3056, 'dashboardName': 'Tổng doanh thu KD'}\n",
      "{'dashboardId': 3059, 'dashboardName': 'VDS'}\n",
      "{'dashboardId': 8490, 'dashboardName': 'TIẾN ĐỘ THỰC HIỆN NHIỆM VỤ'}\n",
      "{'dashboardId': 9937, 'dashboardName': 'THUÊ BAO MOBILE MONEY'}\n"
     ]
    }
   ],
   "source": [
    "# VDS\n",
    "for item in response.json()['data']:\n",
    "    if '_' not in item['dashboardName'] and 'Copy' not in item['dashboardName']:\n",
    "        print(item)"
   ]
  },
  {
   "cell_type": "code",
   "execution_count": 11,
   "metadata": {},
   "outputs": [
    {
     "name": "stdout",
     "output_type": "stream",
     "text": [
      "{'dashboardId': 5259, 'dashboardName': 'Doanh thu dịch vụ (trừ hubbing)'}\n",
      "{'dashboardId': 5260, 'dashboardName': 'Doanh thu bán hàng DA BQP'}\n",
      "{'dashboardId': 3229, 'dashboardName': 'VTS'}\n",
      "{'dashboardId': 3230, 'dashboardName': 'TỔNG DOANH THU (TRỪ HUBBING)'}\n",
      "{'dashboardId': 3242, 'dashboardName': 'DT BÁN HÀNG VIỄN THÔNG'}\n",
      "{'dashboardId': 7915, 'dashboardName': 'DOANH THU DỊCH VỤ & SẢN XUẤT'}\n",
      "{'dashboardId': 5261, 'dashboardName': 'Doanh thu bán hàng giáo dục'}\n",
      "{'dashboardId': 5262, 'dashboardName': 'Doanh thu bán hàng y tế'}\n",
      "{'dashboardId': 8491, 'dashboardName': 'TIẾN ĐỘ THỰC HIỆN NHIỆM VỤ'}\n",
      "{'dashboardId': 3254, 'dashboardName': 'DT BÁN HÀNG GIẢI PHÁP CNTT'}\n"
     ]
    }
   ],
   "source": [
    "# VTS\n",
    "for item in response.json()['data']:\n",
    "    if '_' not in item['dashboardName'] and 'Copy' not in item['dashboardName']:\n",
    "        print(item)"
   ]
  },
  {
   "cell_type": "code",
   "execution_count": 8,
   "metadata": {},
   "outputs": [
    {
     "name": "stdout",
     "output_type": "stream",
     "text": [
      "{'dashboardId': 7815, 'dashboardName': 'DOANH THU DỊCH VỤ & SẢN XUẤT'}\n",
      "{'dashboardId': 8835, 'dashboardName': 'THUÊ BAO VÍ PSGD'}\n",
      "{'dashboardId': 8489, 'dashboardName': 'TIẾN ĐỘ THỰC HIỆN NHIỆM VỤ'}\n",
      "{'dashboardId': 2949, 'dashboardName': 'Doanh thu dịch vụ'}\n",
      "{'dashboardId': 2950, 'dashboardName': 'Thuê bao di động phát triển thực'}\n",
      "{'dashboardId': 2951, 'dashboardName': 'Thuê bao 4G phát triển thực'}\n",
      "{'dashboardId': 2952, 'dashboardName': 'Thuê bao FTTH'}\n",
      "{'dashboardId': 2954, 'dashboardName': 'Tổng doanh thu'}\n",
      "{'dashboardId': 2955, 'dashboardName': 'Tiêu dùng thực di động'}\n",
      "{'dashboardId': 2956, 'dashboardName': 'Thuê bao register'}\n",
      "{'dashboardId': 2958, 'dashboardName': 'VTG'}\n"
     ]
    }
   ],
   "source": [
    "# VTG\n",
    "for item in response.json()['data']:\n",
    "    if '_' not in item['dashboardName'] and 'Copy' not in item['dashboardName']:\n",
    "        print(item)"
   ]
  },
  {
   "cell_type": "code",
   "execution_count": 6,
   "metadata": {},
   "outputs": [
    {
     "name": "stdout",
     "output_type": "stream",
     "text": [
      "{'dashboardId': 5017, 'dashboardName': 'Doanh thu di động'}\n",
      "{'dashboardId': 5020, 'dashboardName': 'Doanh thu dịch vụ nhóm SME'}\n",
      "{'dashboardId': 5019, 'dashboardName': 'DOANH THU DỊCH VỤ MỚI'}\n",
      "{'dashboardId': 7855, 'dashboardName': 'DOANH THU DỊCH VỤ & SẢN XUẤT'}\n",
      "{'dashboardId': 5018, 'dashboardName': 'Doanh thu cố định'}\n",
      "{'dashboardId': 8415, 'dashboardName': 'TIẾN ĐỘ THỰC HIỆN NHIỆM VỤ'}\n",
      "{'dashboardId': 10295, 'dashboardName': 'DỊCH VỤ TV360'}\n",
      "{'dashboardId': 2658, 'dashboardName': 'Doanh thu dịch vụ'}\n",
      "{'dashboardId': 2659, 'dashboardName': 'Thuê bao di động phát triển thực'}\n",
      "{'dashboardId': 2660, 'dashboardName': 'Thuê bao 4G phát triển thực'}\n",
      "{'dashboardId': 2663, 'dashboardName': 'Tổng doanh thu'}\n",
      "{'dashboardId': 2664, 'dashboardName': 'Tiêu dùng thực di động'}\n",
      "{'dashboardId': 2665, 'dashboardName': 'Thuê bao register'}\n",
      "{'dashboardId': 2666, 'dashboardName': 'Thuê bao FTTH'}\n",
      "{'dashboardId': 2667, 'dashboardName': 'VTT'}\n"
     ]
    }
   ],
   "source": [
    "# VTT\n",
    "for item in response.json()['data']:\n",
    "    if '_' not in item['dashboardName'] and 'Copy' not in item['dashboardName']:\n",
    "        print(item)"
   ]
  },
  {
   "cell_type": "code",
   "execution_count": 4,
   "metadata": {},
   "outputs": [
    {
     "name": "stdout",
     "output_type": "stream",
     "text": [
      "{'dashboardId': 7755, 'dashboardName': 'DOANH THU DỊCH VỤ & SẢN XUẤT'}\n",
      "{'dashboardId': 5715, 'dashboardName': 'Thuê bao VIETTEL MONEY'}\n",
      "{'dashboardId': 6407, 'dashboardName': 'DỊCH VỤ TV360'}\n",
      "{'dashboardId': 2374, 'dashboardName': 'Doanh thu dịch vụ'}\n",
      "{'dashboardId': 2376, 'dashboardName': 'Thuê bao di động phát triển thực'}\n",
      "{'dashboardId': 2378, 'dashboardName': 'Thuê bao 4G phát triển thực'}\n",
      "{'dashboardId': 2507, 'dashboardName': 'Dán thẻ epass'}\n",
      "{'dashboardId': 2354, 'dashboardName': 'Tập Đoàn'}\n",
      "{'dashboardId': 9936, 'dashboardName': 'Thuê bao MOBILE MONEY'}\n",
      "{'dashboardId': 9935, 'dashboardName': 'Thuê bao MOBILE MONEY'}\n",
      "{'dashboardId': 9776, 'dashboardName': 'THUÊ BAO TRUYỀN HÌNH'}\n",
      "{'dashboardId': 9775, 'dashboardName': 'Thuê bao FTTH'}\n",
      "{'dashboardId': 10215, 'dashboardName': 'TIẾN ĐỘ THỰC HIỆN NHIỆM VỤ'}\n",
      "{'dashboardId': 2355, 'dashboardName': 'Tổng doanh thu'}\n",
      "{'dashboardId': 2356, 'dashboardName': 'Tiêu dùng thực di động'}\n",
      "{'dashboardId': 2357, 'dashboardName': 'Thuê bao register'}\n"
     ]
    }
   ],
   "source": [
    "# TD\n",
    "for item in response.json()['data']:\n",
    "    if '_' not in item['dashboardName'] and 'Copy' not in item['dashboardName']:\n",
    "        print(item)"
   ]
  },
  {
   "cell_type": "code",
   "execution_count": 75,
   "metadata": {},
   "outputs": [
    {
     "name": "stdout",
     "output_type": "stream",
     "text": [
      "Request thành công\n",
      "Response: {'type': None, 'fromDate': None, 'toDate': None, 'cycle': None, 'response': [{'chartId': 19630, 'titleChart': 'Biểu đồ cảnh báo test', 'typeChart': 'PERFORMANCE_CHART_2', 'cycleTime': 'NGAY'}, {'chartId': 19630, 'titleChart': 'Biểu đồ cảnh báo test', 'typeChart': 'BAR_ALARM', 'cycleTime': 'NGAY'}, {'chartId': 19630, 'titleChart': 'Biểu đồ cảnh báo test', 'typeChart': 'MINI', 'cycleTime': 'NGAY'}, {'chartId': 4996, 'titleChart': 'DOANH THU CỘNG NGANG_LŨY KẾ NGÀY', 'typeChart': 'LINE', 'cycleTime': 'NGAY'}, {'chartId': 4996, 'titleChart': 'DOANH THU CỘNG NGANG_LŨY KẾ NGÀY', 'typeChart': 'LINE_DASHED', 'cycleTime': 'NGAY'}, {'chartId': 20719, 'titleChart': 'Biểu đồ tương quan', 'typeChart': 'LINE', 'cycleTime': 'NGAY'}, {'chartId': 3189, 'titleChart': 'Doanh thu cộng ngang (KD)', 'typeChart': 'ITEM_BLOCK_INFO_2_KPI', 'cycleTime': 'NGAY'}, {'chartId': 1590, 'titleChart': 'Doanh thu cộng ngang (KD) Thực hiện LK ngày', 'typeChart': 'LINE', 'cycleTime': 'NGAY'}, {'chartId': 1590, 'titleChart': 'Doanh thu cộng ngang (KD) Thực hiện LK ngày', 'typeChart': 'LINE_DASHED', 'cycleTime': 'NGAY'}, {'chartId': 20709, 'titleChart': 'Biểu đồ info_obj', 'typeChart': 'Chart INFO_OBJ', 'cycleTime': 'NGAY'}, {'chartId': 1180, 'titleChart': 'DT cộng ngang lũy kế (KD)', 'typeChart': 'TEXT_DELTA_YEAR', 'cycleTime': 'NGAY'}, {'chartId': 1180, 'titleChart': 'DT cộng ngang lũy kế (KD)', 'typeChart': 'TEXT_KPI', 'cycleTime': 'NGAY'}, {'chartId': 1180, 'titleChart': 'DT cộng ngang lũy kế (KD)', 'typeChart': 'PERFORMANCE_CHART', 'cycleTime': 'NGAY'}, {'chartId': 1180, 'titleChart': 'DT cộng ngang lũy kế (KD)', 'typeChart': 'TEXT_PLAN_DAY', 'cycleTime': 'NGAY'}, {'chartId': 3169, 'titleChart': 'TẬP ĐOÀN - TỈ LỆ HOÀN THÀNH DOANH THU TIẾN ĐỘ THÁNG CÁC ĐƠN VỊ', 'typeChart': 'COLUMN', 'cycleTime': 'NGAY'}, {'chartId': 1928, 'titleChart': 'Doanh thu cộng ngang (KD) Xu hướng ngày', 'typeChart': 'COLUMN', 'cycleTime': 'NGAY'}, {'chartId': 1928, 'titleChart': 'Doanh thu cộng ngang (KD) Xu hướng ngày', 'typeChart': 'LINE', 'cycleTime': 'NGAY'}, {'chartId': 3124, 'titleChart': 'CHI TIẾT TỔNG DOANH THU', 'typeChart': 'STACK', 'cycleTime': 'NGAY'}, {'chartId': 5841, 'titleChart': 'TẬP ĐOÀN_DOANH THU CỘNG NGANG_TIẾN ĐỘ QUÝ CÁC ĐƠN VỊ', 'typeChart': 'COLUMN', 'cycleTime': 'NGAY'}, {'chartId': 4009, 'titleChart': 'Xu hướng năm lũy kế đến ngày', 'typeChart': 'LINE', 'cycleTime': 'NGAY'}, {'chartId': 4009, 'titleChart': 'Xu hướng năm lũy kế đến ngày', 'typeChart': 'COLUMN', 'cycleTime': 'NGAY'}, {'chartId': 3125, 'titleChart': 'Doanh thu dịch vụ', 'typeChart': 'BAR', 'cycleTime': 'NGAY'}, {'chartId': 2011, 'titleChart': 'Tổng doanh thu_CÁC ĐƠN VỊ HOÀN THÀNH KẾ HOẠCH ngày :TODATE', 'typeChart': 'COLUMN', 'cycleTime': 'NGAY'}, {'chartId': 5026, 'titleChart': 'TẬP ĐOÀN_DOANH THU CỘNG NGANG_TIẾN ĐỘ THÁNG CÁC ĐƠN VỊ', 'typeChart': 'COLUMN', 'cycleTime': 'NGAY'}, {'chartId': 5063, 'titleChart': 'Doanh thu cộng ngang (KD)', 'typeChart': 'BAR_ALARM', 'cycleTime': 'NGAY'}, {'chartId': 5063, 'titleChart': 'Doanh thu cộng ngang (KD)', 'typeChart': 'PERFORMANCE_CHART_2', 'cycleTime': 'NGAY'}, {'chartId': 5063, 'titleChart': 'Doanh thu cộng ngang (KD)', 'typeChart': 'DYNAMIC_TEXT', 'cycleTime': 'NGAY'}, {'chartId': 5063, 'titleChart': 'Doanh thu cộng ngang (KD)', 'typeChart': 'MINI_ALARM2', 'cycleTime': 'NGAY'}, {'chartId': 5063, 'titleChart': 'Doanh thu cộng ngang (KD)', 'typeChart': 'MINI', 'cycleTime': 'NGAY'}, {'chartId': 5063, 'titleChart': 'Doanh thu cộng ngang (KD)', 'typeChart': 'TITLE_MOBILE', 'cycleTime': 'NGAY'}, {'chartId': 5843, 'titleChart': 'TẬP ĐOÀN_DOANH THU CỘNG NGANG_TIẾN ĐỘ NĂM CÁC ĐƠN VỊ', 'typeChart': 'COLUMN', 'cycleTime': 'NGAY'}, {'chartId': 7734, 'titleChart': 'TẬP ĐOÀN_DOANH THU CỘNG NGANG_THỪA THIẾU SO VỚI KH NGÀY', 'typeChart': 'OVER_COLUMN', 'cycleTime': 'NGAY'}, {'chartId': 7734, 'titleChart': 'TẬP ĐOÀN_DOANH THU CỘNG NGANG_THỪA THIẾU SO VỚI KH NGÀY', 'typeChart': 'BELOW_COLUMN', 'cycleTime': 'NGAY'}, {'chartId': 20720, 'titleChart': 'Rada', 'typeChart': 'RADAR', 'cycleTime': 'NGAY'}, {'chartId': 7781, 'titleChart': 'TẬP ĐOÀN_DOANH THU CỘNG NGANG_TĂNG TRƯỞNG THÁNG TỪNG ĐƠN VỊ', 'typeChart': 'COLUMN', 'cycleTime': 'NGAY'}, {'chartId': 19621, 'titleChart': 'Biểu đồ cột_Mai test Copy(19621)', 'typeChart': 'COLUMN', 'cycleTime': 'NGAY'}, {'chartId': 19620, 'titleChart': 'Biểu đồ đường kết hợp cột_ test', 'typeChart': 'LINE', 'cycleTime': 'NGAY'}, {'chartId': 19620, 'titleChart': 'Biểu đồ đường kết hợp cột_ test', 'typeChart': 'COLUMN', 'cycleTime': 'NGAY'}, {'chartId': 20134, 'titleChart': 'Cơ cấu Doanh thu (KD) lũy kế ngày theo đơn vị Copy(20134)', 'typeChart': 'ITEM_NESTED_PIE', 'cycleTime': 'NGAY'}, {'chartId': 19609, 'titleChart': 'Biểu đồ cột_ha test', 'typeChart': 'COLUMN', 'cycleTime': 'NGAY'}, {'chartId': 19619, 'titleChart': 'Biểu đồ cột_Mai test', 'typeChart': 'COLUMN', 'cycleTime': 'NGAY'}, {'chartId': 19623, 'titleChart': 'Biểu đồ cơ cấu test', 'typeChart': 'PIE', 'cycleTime': 'NGAY'}, {'chartId': 20723, 'titleChart': 'RANK', 'typeChart': 'RANK_GOOD', 'cycleTime': 'NGAY'}, {'chartId': 20723, 'titleChart': 'RANK', 'typeChart': 'RANK_BAD', 'cycleTime': 'NGAY'}, {'chartId': 19823, 'titleChart': 'BIểu đồ nested_pie test', 'typeChart': 'ITEM_NESTED_PIE', 'cycleTime': 'NGAY'}, {'chartId': 2179, 'titleChart': 'Biểu đồ Info_OBJ - chu kỳ tháng - thupp', 'typeChart': 'Chart INFO_OBJ', 'cycleTime': 'NGAY'}, {'chartId': 20837, 'titleChart': 'Tra cứu chỉ tiêu_Ngày', 'typeChart': 'ITEM_BLOCK_INFO_2_KPI', 'cycleTime': 'NGAY'}, {'chartId': 23371, 'titleChart': 'DOANH THU CỘNG NGANG (KD)', 'typeChart': 'DYNAMIC_TEXT', 'cycleTime': 'NGAY'}, {'chartId': 23371, 'titleChart': 'DOANH THU CỘNG NGANG (KD)', 'typeChart': 'PERFORMANCE_CHART_2', 'cycleTime': 'NGAY'}, {'chartId': 23371, 'titleChart': 'DOANH THU CỘNG NGANG (KD)', 'typeChart': 'BAR_ALARM', 'cycleTime': 'NGAY'}, {'chartId': 23371, 'titleChart': 'DOANH THU CỘNG NGANG (KD)', 'typeChart': 'MINI_ALARM2', 'cycleTime': 'NGAY'}, {'chartId': 23371, 'titleChart': 'DOANH THU CỘNG NGANG (KD)', 'typeChart': 'MINI', 'cycleTime': 'NGAY'}, {'chartId': 23371, 'titleChart': 'DOANH THU CỘNG NGANG (KD)', 'typeChart': 'TITLE_MOBILE', 'cycleTime': 'NGAY'}, {'chartId': 23371, 'titleChart': 'DOANH THU CỘNG NGANG (KD)', 'typeChart': 'DYNAMIC_TEXT_2', 'cycleTime': 'NGAY'}, {'chartId': 20885, 'titleChart': 'BD INFOMAIN_Test 1 ĐƠN VỊ, 1 CHỈ TIÊU', 'typeChart': 'INFO_MAIN', 'cycleTime': 'NGAY'}, {'chartId': 23195, 'titleChart': 'TOÀN TRÌNH BƯU GỬI', 'typeChart': 'LINE', 'cycleTime': 'NGAY'}, {'chartId': 21796, 'titleChart': 'dgsdf', 'typeChart': 'PIE', 'cycleTime': 'NGAY'}, {'chartId': 20724, 'titleChart': 'TABLE', 'typeChart': 'TABLE', 'cycleTime': 'NGAY'}, {'chartId': 21128, 'titleChart': 'Nhân viên', 'typeChart': 'BAR_ALARM', 'cycleTime': 'NGAY'}, {'chartId': 20694, 'titleChart': 'biểu đồ cột ngang', 'typeChart': 'BAR', 'cycleTime': 'NGAY'}, {'chartId': 20721, 'titleChart': 'INFO_MAIN', 'typeChart': 'INFO_MAIN', 'cycleTime': 'NGAY'}, {'chartId': 22586, 'titleChart': 'TEST', 'typeChart': 'TABLE_CONTENT', 'cycleTime': 'NGAY'}, {'chartId': 23316, 'titleChart': 'DOANH THU CỘNG NGANG (KD)', 'typeChart': '1', 'cycleTime': 'NGAY'}, {'chartId': 23770, 'titleChart': 'TEST NHÓM CỘT', 'typeChart': 'GROUP_BAR', 'cycleTime': 'NGAY'}, {'chartId': 23599, 'titleChart': 'Test nhóm cột_Mai', 'typeChart': 'GROUP_BAR', 'cycleTime': 'NGAY'}, {'chartId': 23722, 'titleChart': 'NHÓM CỘT', 'typeChart': 'GROUP_BAR', 'cycleTime': 'NGAY'}, {'chartId': 24856, 'titleChart': 'DT CỘNG NGANG (KD)', 'typeChart': 'DYNAMIC_TEXT', 'cycleTime': 'NGAY'}, {'chartId': 24856, 'titleChart': 'DT CỘNG NGANG (KD)', 'typeChart': 'PERFORMANCE_CHART_2', 'cycleTime': 'NGAY'}, {'chartId': 24856, 'titleChart': 'DT CỘNG NGANG (KD)', 'typeChart': 'BAR_ALARM', 'cycleTime': 'NGAY'}, {'chartId': 24856, 'titleChart': 'DT CỘNG NGANG (KD)', 'typeChart': 'MINI_ALARM2', 'cycleTime': 'NGAY'}, {'chartId': 24856, 'titleChart': 'DT CỘNG NGANG (KD)', 'typeChart': 'MINI', 'cycleTime': 'NGAY'}, {'chartId': 24856, 'titleChart': 'DT CỘNG NGANG (KD)', 'typeChart': 'TITLE_MOBILE', 'cycleTime': 'NGAY'}, {'chartId': 24856, 'titleChart': 'DT CỘNG NGANG (KD)', 'typeChart': 'DYNAMIC_TEXT_2', 'cycleTime': 'NGAY'}, {'chartId': 24324, 'titleChart': 'DOANH THU CỘNG NGANG (KD)', 'typeChart': '1', 'cycleTime': 'NGAY'}, {'chartId': 24849, 'titleChart': 'TEST CỘT NGANG', 'typeChart': 'BAR', 'cycleTime': 'NGAY'}, {'chartId': 24335, 'titleChart': 'DOANH THU CỘNG NGANG (KD)', 'typeChart': '1', 'cycleTime': 'NGAY'}], 'timestamp': 1696143129618, 'status': None}\n"
     ]
    },
    {
     "name": "stderr",
     "output_type": "stream",
     "text": [
      "/Users/tranxuanhuy/anaconda3/lib/python3.11/site-packages/urllib3/connectionpool.py:1056: InsecureRequestWarning: Unverified HTTPS request is being made to host '10.30.164.32'. Adding certificate verification is strongly advised. See: https://urllib3.readthedocs.io/en/1.26.x/advanced-usage.html#ssl-warnings\n",
      "  warnings.warn(\n"
     ]
    }
   ],
   "source": [
    "import json\n",
    "import requests\n",
    "\n",
    "# Thay thế các giá trị dưới đây bằng thông tin của API bạn muốn gọi và mã thông báo (token) của bạn\n",
    "api_url = 'https://10.30.164.32:8192/vsds/api/chatbot/getListChart?token=eyJhbGciOiJIUzI1NiIsInppcCI6IkdaSVAifQ.H4sIAAAAAAAAAKtWyiwuVrJSSk8qSVHSUcpMLFGyMjSzNLY0M7M0sNBRSq0oAAuYGJgaG4MEiksS09Kc81NSgZqMgOKGxkBtKakFJZ4pIBFTEyC3tDi1CMaF8fMSc5G01AIAgG6fSngAAAA.mvTqCOqk-VCO0ua7YUiKIWJfgXzKkQC_4UhzMFrCzdA'\n",
    "token='eyJhbGciOiJIUzI1NiIsInppcCI6IkdaSVAifQ.H4sIAAAAAAAAAKtWyiwuVrJSSk8qSVHSUcpMLFGyMjSzNLY0M7M0sNBRSq0oAAuYGJgaG4MEiksS09Kc81NSgZqMgOKGxkBtKakFJZ4pIBFTEyC3tDi1CMaF8fMSc5G01AIAgG6fSngAAAA.mvTqCOqk-VCO0ua7YUiKIWJfgXzKkQC_4UhzMFrCzdA'\n",
    "\n",
    "# Dữ liệu bạn muốn gửi trong request POST (nếu có)\n",
    "data = {\n",
    "    \"ip\": \"10.61.142.22\",\n",
    "    \"serviceId\": \"19\",\n",
    "    \"areaCode\": \"TD\",\n",
    "    \"cycleTime\": \"NGAY\",\n",
    "    \"keyNameTitle\": \"\",\n",
    "    \"typeChart\": \"\"\n",
    "}\n",
    "\n",
    "# Tiêu đề Authorization chứa mã thông báo\n",
    "headers = {'Authorization': f'Bearer {token}'}\n",
    "\n",
    "# Thực hiện cuộc gọi POST\n",
    "response = requests.post(api_url, json=data, headers=headers, verify=False)\n",
    "\n",
    "# Kiểm tra phản hồi từ server\n",
    "if response.status_code == 200:\n",
    "    print('Request thành công')\n",
    "    print('Response:', response.json())\n",
    "else:\n",
    "    print('Request thất bại')\n",
    "    print('Status code:', response.status_code)\n",
    "    print('Response:', response.text)\n",
    "    "
   ]
  },
  {
   "cell_type": "code",
   "execution_count": 80,
   "metadata": {},
   "outputs": [
    {
     "name": "stdout",
     "output_type": "stream",
     "text": [
      "{'chartId': 4996, 'titleChart': 'DOANH THU CỘNG NGANG_LŨY KẾ NGÀY', 'typeChart': 'LINE', 'cycleTime': 'NGAY'}\n",
      "{'chartId': 4996, 'titleChart': 'DOANH THU CỘNG NGANG_LŨY KẾ NGÀY', 'typeChart': 'LINE_DASHED', 'cycleTime': 'NGAY'}\n",
      "{'chartId': 3189, 'titleChart': 'Doanh thu cộng ngang (KD)', 'typeChart': 'ITEM_BLOCK_INFO_2_KPI', 'cycleTime': 'NGAY'}\n",
      "{'chartId': 1590, 'titleChart': 'Doanh thu cộng ngang (KD) Thực hiện LK ngày', 'typeChart': 'LINE', 'cycleTime': 'NGAY'}\n",
      "{'chartId': 1590, 'titleChart': 'Doanh thu cộng ngang (KD) Thực hiện LK ngày', 'typeChart': 'LINE_DASHED', 'cycleTime': 'NGAY'}\n",
      "{'chartId': 1180, 'titleChart': 'DT cộng ngang lũy kế (KD)', 'typeChart': 'TEXT_DELTA_YEAR', 'cycleTime': 'NGAY'}\n",
      "{'chartId': 1180, 'titleChart': 'DT cộng ngang lũy kế (KD)', 'typeChart': 'TEXT_KPI', 'cycleTime': 'NGAY'}\n",
      "{'chartId': 1180, 'titleChart': 'DT cộng ngang lũy kế (KD)', 'typeChart': 'PERFORMANCE_CHART', 'cycleTime': 'NGAY'}\n",
      "{'chartId': 1180, 'titleChart': 'DT cộng ngang lũy kế (KD)', 'typeChart': 'TEXT_PLAN_DAY', 'cycleTime': 'NGAY'}\n",
      "{'chartId': 3169, 'titleChart': 'TẬP ĐOÀN - TỈ LỆ HOÀN THÀNH DOANH THU TIẾN ĐỘ THÁNG CÁC ĐƠN VỊ', 'typeChart': 'COLUMN', 'cycleTime': 'NGAY'}\n",
      "{'chartId': 1928, 'titleChart': 'Doanh thu cộng ngang (KD) Xu hướng ngày', 'typeChart': 'COLUMN', 'cycleTime': 'NGAY'}\n",
      "{'chartId': 1928, 'titleChart': 'Doanh thu cộng ngang (KD) Xu hướng ngày', 'typeChart': 'LINE', 'cycleTime': 'NGAY'}\n",
      "{'chartId': 3124, 'titleChart': 'CHI TIẾT TỔNG DOANH THU', 'typeChart': 'STACK', 'cycleTime': 'NGAY'}\n",
      "{'chartId': 5841, 'titleChart': 'TẬP ĐOÀN_DOANH THU CỘNG NGANG_TIẾN ĐỘ QUÝ CÁC ĐƠN VỊ', 'typeChart': 'COLUMN', 'cycleTime': 'NGAY'}\n",
      "{'chartId': 4009, 'titleChart': 'Xu hướng năm lũy kế đến ngày', 'typeChart': 'LINE', 'cycleTime': 'NGAY'}\n",
      "{'chartId': 4009, 'titleChart': 'Xu hướng năm lũy kế đến ngày', 'typeChart': 'COLUMN', 'cycleTime': 'NGAY'}\n",
      "{'chartId': 3125, 'titleChart': 'Doanh thu dịch vụ', 'typeChart': 'BAR', 'cycleTime': 'NGAY'}\n",
      "{'chartId': 2011, 'titleChart': 'Tổng doanh thu_CÁC ĐƠN VỊ HOÀN THÀNH KẾ HOẠCH ngày :TODATE', 'typeChart': 'COLUMN', 'cycleTime': 'NGAY'}\n",
      "{'chartId': 5026, 'titleChart': 'TẬP ĐOÀN_DOANH THU CỘNG NGANG_TIẾN ĐỘ THÁNG CÁC ĐƠN VỊ', 'typeChart': 'COLUMN', 'cycleTime': 'NGAY'}\n",
      "{'chartId': 5063, 'titleChart': 'Doanh thu cộng ngang (KD)', 'typeChart': 'BAR_ALARM', 'cycleTime': 'NGAY'}\n",
      "{'chartId': 5063, 'titleChart': 'Doanh thu cộng ngang (KD)', 'typeChart': 'PERFORMANCE_CHART_2', 'cycleTime': 'NGAY'}\n",
      "{'chartId': 5063, 'titleChart': 'Doanh thu cộng ngang (KD)', 'typeChart': 'DYNAMIC_TEXT', 'cycleTime': 'NGAY'}\n",
      "{'chartId': 5063, 'titleChart': 'Doanh thu cộng ngang (KD)', 'typeChart': 'MINI_ALARM2', 'cycleTime': 'NGAY'}\n",
      "{'chartId': 5063, 'titleChart': 'Doanh thu cộng ngang (KD)', 'typeChart': 'MINI', 'cycleTime': 'NGAY'}\n",
      "{'chartId': 5063, 'titleChart': 'Doanh thu cộng ngang (KD)', 'typeChart': 'TITLE_MOBILE', 'cycleTime': 'NGAY'}\n",
      "{'chartId': 5843, 'titleChart': 'TẬP ĐOÀN_DOANH THU CỘNG NGANG_TIẾN ĐỘ NĂM CÁC ĐƠN VỊ', 'typeChart': 'COLUMN', 'cycleTime': 'NGAY'}\n",
      "{'chartId': 7734, 'titleChart': 'TẬP ĐOÀN_DOANH THU CỘNG NGANG_THỪA THIẾU SO VỚI KH NGÀY', 'typeChart': 'OVER_COLUMN', 'cycleTime': 'NGAY'}\n",
      "{'chartId': 7734, 'titleChart': 'TẬP ĐOÀN_DOANH THU CỘNG NGANG_THỪA THIẾU SO VỚI KH NGÀY', 'typeChart': 'BELOW_COLUMN', 'cycleTime': 'NGAY'}\n",
      "{'chartId': 20720, 'titleChart': 'Rada', 'typeChart': 'RADAR', 'cycleTime': 'NGAY'}\n",
      "{'chartId': 7781, 'titleChart': 'TẬP ĐOÀN_DOANH THU CỘNG NGANG_TĂNG TRƯỞNG THÁNG TỪNG ĐƠN VỊ', 'typeChart': 'COLUMN', 'cycleTime': 'NGAY'}\n",
      "{'chartId': 20134, 'titleChart': 'Cơ cấu Doanh thu (KD) lũy kế ngày theo đơn vị Copy(20134)', 'typeChart': 'ITEM_NESTED_PIE', 'cycleTime': 'NGAY'}\n",
      "{'chartId': 20723, 'titleChart': 'RANK', 'typeChart': 'RANK_GOOD', 'cycleTime': 'NGAY'}\n",
      "{'chartId': 20723, 'titleChart': 'RANK', 'typeChart': 'RANK_BAD', 'cycleTime': 'NGAY'}\n",
      "{'chartId': 20837, 'titleChart': 'Tra cứu chỉ tiêu_Ngày', 'typeChart': 'ITEM_BLOCK_INFO_2_KPI', 'cycleTime': 'NGAY'}\n",
      "{'chartId': 23371, 'titleChart': 'DOANH THU CỘNG NGANG (KD)', 'typeChart': 'DYNAMIC_TEXT', 'cycleTime': 'NGAY'}\n",
      "{'chartId': 23371, 'titleChart': 'DOANH THU CỘNG NGANG (KD)', 'typeChart': 'PERFORMANCE_CHART_2', 'cycleTime': 'NGAY'}\n",
      "{'chartId': 23371, 'titleChart': 'DOANH THU CỘNG NGANG (KD)', 'typeChart': 'BAR_ALARM', 'cycleTime': 'NGAY'}\n",
      "{'chartId': 23371, 'titleChart': 'DOANH THU CỘNG NGANG (KD)', 'typeChart': 'MINI_ALARM2', 'cycleTime': 'NGAY'}\n",
      "{'chartId': 23371, 'titleChart': 'DOANH THU CỘNG NGANG (KD)', 'typeChart': 'MINI', 'cycleTime': 'NGAY'}\n",
      "{'chartId': 23371, 'titleChart': 'DOANH THU CỘNG NGANG (KD)', 'typeChart': 'TITLE_MOBILE', 'cycleTime': 'NGAY'}\n",
      "{'chartId': 23371, 'titleChart': 'DOANH THU CỘNG NGANG (KD)', 'typeChart': 'DYNAMIC_TEXT_2', 'cycleTime': 'NGAY'}\n",
      "{'chartId': 23195, 'titleChart': 'TOÀN TRÌNH BƯU GỬI', 'typeChart': 'LINE', 'cycleTime': 'NGAY'}\n",
      "{'chartId': 21796, 'titleChart': 'dgsdf', 'typeChart': 'PIE', 'cycleTime': 'NGAY'}\n",
      "{'chartId': 20724, 'titleChart': 'TABLE', 'typeChart': 'TABLE', 'cycleTime': 'NGAY'}\n",
      "{'chartId': 21128, 'titleChart': 'Nhân viên', 'typeChart': 'BAR_ALARM', 'cycleTime': 'NGAY'}\n",
      "{'chartId': 20721, 'titleChart': 'INFO_MAIN', 'typeChart': 'INFO_MAIN', 'cycleTime': 'NGAY'}\n",
      "{'chartId': 23316, 'titleChart': 'DOANH THU CỘNG NGANG (KD)', 'typeChart': '1', 'cycleTime': 'NGAY'}\n",
      "{'chartId': 23722, 'titleChart': 'NHÓM CỘT', 'typeChart': 'GROUP_BAR', 'cycleTime': 'NGAY'}\n",
      "{'chartId': 24856, 'titleChart': 'DT CỘNG NGANG (KD)', 'typeChart': 'DYNAMIC_TEXT', 'cycleTime': 'NGAY'}\n",
      "{'chartId': 24856, 'titleChart': 'DT CỘNG NGANG (KD)', 'typeChart': 'PERFORMANCE_CHART_2', 'cycleTime': 'NGAY'}\n",
      "{'chartId': 24856, 'titleChart': 'DT CỘNG NGANG (KD)', 'typeChart': 'BAR_ALARM', 'cycleTime': 'NGAY'}\n",
      "{'chartId': 24856, 'titleChart': 'DT CỘNG NGANG (KD)', 'typeChart': 'MINI_ALARM2', 'cycleTime': 'NGAY'}\n",
      "{'chartId': 24856, 'titleChart': 'DT CỘNG NGANG (KD)', 'typeChart': 'MINI', 'cycleTime': 'NGAY'}\n",
      "{'chartId': 24856, 'titleChart': 'DT CỘNG NGANG (KD)', 'typeChart': 'TITLE_MOBILE', 'cycleTime': 'NGAY'}\n",
      "{'chartId': 24856, 'titleChart': 'DT CỘNG NGANG (KD)', 'typeChart': 'DYNAMIC_TEXT_2', 'cycleTime': 'NGAY'}\n",
      "{'chartId': 24324, 'titleChart': 'DOANH THU CỘNG NGANG (KD)', 'typeChart': '1', 'cycleTime': 'NGAY'}\n",
      "{'chartId': 24335, 'titleChart': 'DOANH THU CỘNG NGANG (KD)', 'typeChart': '1', 'cycleTime': 'NGAY'}\n"
     ]
    }
   ],
   "source": [
    "# TD\n",
    "for item in response.json()['response']:\n",
    "    if 'test' not in item['titleChart'].lower() and 'biểu đồ' not in item['titleChart'].lower():\n",
    "        print(item)"
   ]
  },
  {
   "cell_type": "code",
   "execution_count": null,
   "metadata": {},
   "outputs": [],
   "source": []
  }
 ],
 "metadata": {
  "kernelspec": {
   "display_name": "base",
   "language": "python",
   "name": "python3"
  },
  "language_info": {
   "codemirror_mode": {
    "name": "ipython",
    "version": 3
   },
   "file_extension": ".py",
   "mimetype": "text/x-python",
   "name": "python",
   "nbconvert_exporter": "python",
   "pygments_lexer": "ipython3",
   "version": "3.11.4"
  },
  "orig_nbformat": 4
 },
 "nbformat": 4,
 "nbformat_minor": 2
}
